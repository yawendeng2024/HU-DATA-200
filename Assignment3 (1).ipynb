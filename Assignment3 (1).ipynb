{
 "cells": [
  {
   "cell_type": "markdown",
   "id": "a710df26-3056-4ae4-91d7-f2d327a8c65a",
   "metadata": {},
   "source": [
    "Dataset: United States Chronic Disease Indicators\n",
    "\n",
    "Last Updated: March 9, 2024\n",
    "\n",
    "Source: CDC Chronic Disease Indicators\n",
    "\n",
    "Description: This dataset provides a cross-cutting set of 115 indicators developed to monitor chronic diseases, with data collected by the CDC's Division of Population Health. It includes state-specific data useful for public health practice."
   ]
  },
  {
   "cell_type": "code",
   "execution_count": 1,
   "id": "135dd902-4f59-400f-be6c-c4d9c3e046c2",
   "metadata": {
    "scrolled": true
   },
   "outputs": [
    {
     "name": "stdout",
     "output_type": "stream",
     "text": [
      "Collecting ipython-sql\n",
      "  Downloading ipython_sql-0.5.0-py3-none-any.whl.metadata (17 kB)\n",
      "Collecting prettytable (from ipython-sql)\n",
      "  Downloading prettytable-3.16.0-py3-none-any.whl.metadata (33 kB)\n",
      "Requirement already satisfied: ipython in /opt/anaconda3/lib/python3.12/site-packages (from ipython-sql) (8.27.0)\n",
      "Requirement already satisfied: sqlalchemy>=2.0 in /opt/anaconda3/lib/python3.12/site-packages (from ipython-sql) (2.0.34)\n",
      "Collecting sqlparse (from ipython-sql)\n",
      "  Downloading sqlparse-0.5.3-py3-none-any.whl.metadata (3.9 kB)\n",
      "Requirement already satisfied: six in /opt/anaconda3/lib/python3.12/site-packages (from ipython-sql) (1.16.0)\n",
      "Requirement already satisfied: ipython-genutils in /opt/anaconda3/lib/python3.12/site-packages (from ipython-sql) (0.2.0)\n",
      "Requirement already satisfied: typing-extensions>=4.6.0 in /opt/anaconda3/lib/python3.12/site-packages (from sqlalchemy>=2.0->ipython-sql) (4.11.0)\n",
      "Requirement already satisfied: decorator in /opt/anaconda3/lib/python3.12/site-packages (from ipython->ipython-sql) (5.1.1)\n",
      "Requirement already satisfied: jedi>=0.16 in /opt/anaconda3/lib/python3.12/site-packages (from ipython->ipython-sql) (0.19.1)\n",
      "Requirement already satisfied: matplotlib-inline in /opt/anaconda3/lib/python3.12/site-packages (from ipython->ipython-sql) (0.1.6)\n",
      "Requirement already satisfied: prompt-toolkit<3.1.0,>=3.0.41 in /opt/anaconda3/lib/python3.12/site-packages (from ipython->ipython-sql) (3.0.43)\n",
      "Requirement already satisfied: pygments>=2.4.0 in /opt/anaconda3/lib/python3.12/site-packages (from ipython->ipython-sql) (2.15.1)\n",
      "Requirement already satisfied: stack-data in /opt/anaconda3/lib/python3.12/site-packages (from ipython->ipython-sql) (0.2.0)\n",
      "Requirement already satisfied: traitlets>=5.13.0 in /opt/anaconda3/lib/python3.12/site-packages (from ipython->ipython-sql) (5.14.3)\n",
      "Requirement already satisfied: pexpect>4.3 in /opt/anaconda3/lib/python3.12/site-packages (from ipython->ipython-sql) (4.8.0)\n",
      "Requirement already satisfied: wcwidth in /opt/anaconda3/lib/python3.12/site-packages (from prettytable->ipython-sql) (0.2.5)\n",
      "Requirement already satisfied: parso<0.9.0,>=0.8.3 in /opt/anaconda3/lib/python3.12/site-packages (from jedi>=0.16->ipython->ipython-sql) (0.8.3)\n",
      "Requirement already satisfied: ptyprocess>=0.5 in /opt/anaconda3/lib/python3.12/site-packages (from pexpect>4.3->ipython->ipython-sql) (0.7.0)\n",
      "Requirement already satisfied: executing in /opt/anaconda3/lib/python3.12/site-packages (from stack-data->ipython->ipython-sql) (0.8.3)\n",
      "Requirement already satisfied: asttokens in /opt/anaconda3/lib/python3.12/site-packages (from stack-data->ipython->ipython-sql) (2.0.5)\n",
      "Requirement already satisfied: pure-eval in /opt/anaconda3/lib/python3.12/site-packages (from stack-data->ipython->ipython-sql) (0.2.2)\n",
      "Downloading ipython_sql-0.5.0-py3-none-any.whl (20 kB)\n",
      "Downloading prettytable-3.16.0-py3-none-any.whl (33 kB)\n",
      "Downloading sqlparse-0.5.3-py3-none-any.whl (44 kB)\n",
      "Installing collected packages: sqlparse, prettytable, ipython-sql\n",
      "Successfully installed ipython-sql-0.5.0 prettytable-3.16.0 sqlparse-0.5.3\n",
      "Note: you may need to restart the kernel to use updated packages.\n"
     ]
    }
   ],
   "source": [
    "pip install ipython-sql"
   ]
  },
  {
   "cell_type": "code",
   "execution_count": 3,
   "id": "0b1b7286-4ee1-460b-ac90-5e9349ca6a69",
   "metadata": {},
   "outputs": [
    {
     "name": "stdout",
     "output_type": "stream",
     "text": [
      " * sqlite:///health_data.db\n",
      "Done.\n"
     ]
    },
    {
     "data": {
      "text/plain": [
       "[]"
      ]
     },
     "execution_count": 3,
     "metadata": {},
     "output_type": "execute_result"
    }
   ],
   "source": [
    "# Load the SQL extension\n",
    "%load_ext sql\n",
    "\n",
    "# Connect to an SQLite database\n",
    "%sql sqlite:///health_data.db\n",
    "\n",
    "# Now you can run SQL queries directly in your notebook\n",
    "%sql CREATE TABLE States (state_id INTEGER PRIMARY KEY, state_name TEXT, population INTEGER);"
   ]
  },
  {
   "cell_type": "code",
   "execution_count": 19,
   "id": "231eb283-e93d-4e34-a550-b28a31f21b59",
   "metadata": {},
   "outputs": [],
   "source": [
    "import sqlite3\n",
    "\n",
    "# Connect to the SQLite database (this will create the database if it doesn't exist)\n",
    "conn = sqlite3.connect('health_data.db')\n",
    "cursor = conn.cursor()"
   ]
  },
  {
   "cell_type": "code",
   "execution_count": 31,
   "id": "3e6d6455-b827-467c-ab8c-cc639d24973d",
   "metadata": {},
   "outputs": [
    {
     "data": {
      "text/plain": [
       "<sqlite3.Cursor at 0x1290ffc40>"
      ]
     },
     "execution_count": 31,
     "metadata": {},
     "output_type": "execute_result"
    }
   ],
   "source": [
    "# SQL to create the \"States\" table\n",
    "cursor.execute('''\n",
    "CREATE TABLE IF NOT EXISTS States (\n",
    "    state_id INTEGER PRIMARY KEY,\n",
    "    state_name TEXT,\n",
    "    population INTEGER\n",
    ")\n",
    "''')"
   ]
  },
  {
   "cell_type": "code",
   "execution_count": 23,
   "id": "d8b08573-d7a9-4e79-8383-a85159b7bfc0",
   "metadata": {},
   "outputs": [
    {
     "data": {
      "text/plain": [
       "<sqlite3.Cursor at 0x1290feac0>"
      ]
     },
     "execution_count": 23,
     "metadata": {},
     "output_type": "execute_result"
    }
   ],
   "source": [
    "# SQL to create the \"ChronicDiseases\" table\n",
    "cursor.execute('''\n",
    "CREATE TABLE IF NOT EXISTS ChronicDiseases (\n",
    "    disease_id INTEGER PRIMARY KEY,\n",
    "    state_id INTEGER,\n",
    "    disease_name TEXT,\n",
    "    disease_prevalence_rate FLOAT,\n",
    "    FOREIGN KEY (state_id) REFERENCES States(state_id)\n",
    ")\n",
    "''')"
   ]
  },
  {
   "cell_type": "code",
   "execution_count": 43,
   "id": "7b3c6d13-b3a2-4ec8-91dc-dce6f7513161",
   "metadata": {},
   "outputs": [
    {
     "name": "stdout",
     "output_type": "stream",
     "text": [
      "('California', 'Hypertension', 29.5)\n",
      "('Texas', 'Diabetes', 12.0)\n",
      "('Florida', 'Cancer', 4.3)\n",
      "('California', 'Hypertension', 29.5)\n",
      "('Texas', 'Diabetes', 12.0)\n",
      "('Florida', 'Cancer', 4.3)\n"
     ]
    }
   ],
   "source": [
    "import sqlite3\n",
    "\n",
    "# Connect to the SQLite database\n",
    "conn = sqlite3.connect('health_data.db')\n",
    "cursor = conn.cursor()\n",
    "\n",
    "# Execute the SQL query\n",
    "cursor.execute('''\n",
    "SELECT States.state_name, ChronicDiseases.disease_name, ChronicDiseases.disease_prevalence_rate\n",
    "FROM States\n",
    "JOIN ChronicDiseases ON States.state_id = ChronicDiseases.state_id;\n",
    "''')\n",
    "\n",
    "# Fetch all the results\n",
    "results = cursor.fetchall()\n",
    "\n",
    "# Print the results\n",
    "for row in results:\n",
    "    print(row)"
   ]
  },
  {
   "cell_type": "code",
   "execution_count": 47,
   "id": "c9104dd9-cc94-4a2c-9333-b320f144f268",
   "metadata": {},
   "outputs": [
    {
     "name": "stdout",
     "output_type": "stream",
     "text": [
      "('California', 29.5)\n",
      "('Florida', 4.3)\n",
      "('Texas', 12.0)\n"
     ]
    }
   ],
   "source": [
    "conn = sqlite3.connect('health_data.db')\n",
    "cursor = conn.cursor()\n",
    "\n",
    "# SQL query to calculate the average disease prevalence rate by state\n",
    "cursor.execute('''\n",
    "SELECT state_name, AVG(disease_prevalence_rate) AS avg_prevalence\n",
    "FROM States\n",
    "JOIN ChronicDiseases ON States.state_id = ChronicDiseases.state_id\n",
    "GROUP BY state_name;\n",
    "''')\n",
    "\n",
    "# Fetch all the results\n",
    "results = cursor.fetchall()\n",
    "\n",
    "# Print the results\n",
    "for row in results:\n",
    "    print(row)"
   ]
  },
  {
   "cell_type": "markdown",
   "id": "317779be-f19b-4645-9fe4-8c71dedc5926",
   "metadata": {},
   "source": [
    "Query 1: Calculate the average disease prevalence rate by state."
   ]
  },
  {
   "cell_type": "code",
   "execution_count": 47,
   "id": "504a9c74-94fc-423c-a06f-87bf3f52fe6f",
   "metadata": {},
   "outputs": [
    {
     "name": "stdout",
     "output_type": "stream",
     "text": [
      "('California', 29.5)\n",
      "('Florida', 4.3)\n",
      "('Texas', 12.0)\n"
     ]
    }
   ],
   "source": [
    "conn = sqlite3.connect('health_data.db')\n",
    "cursor = conn.cursor()\n",
    "\n",
    "# SQL query to calculate the average disease prevalence rate by state\n",
    "cursor.execute('''\n",
    "SELECT state_name, AVG(disease_prevalence_rate) AS avg_prevalence\n",
    "FROM States\n",
    "JOIN ChronicDiseases ON States.state_id = ChronicDiseases.state_id\n",
    "GROUP BY state_name;\n",
    "''')\n",
    "\n",
    "# Fetch all the results\n",
    "results = cursor.fetchall()\n",
    "\n",
    "# Print the results\n",
    "for row in results:\n",
    "    print(row)"
   ]
  },
  {
   "cell_type": "markdown",
   "id": "5d719ae8-6dbd-4cc1-a9f4-8ea195f1bd34",
   "metadata": {},
   "source": [
    "Query 2: Retrieve the states where the disease prevalence rate is above 10%."
   ]
  },
  {
   "cell_type": "code",
   "execution_count": 51,
   "id": "8a9c5bb0-c2e3-4c95-ab10-90437919c915",
   "metadata": {},
   "outputs": [
    {
     "name": "stdout",
     "output_type": "stream",
     "text": [
      "('California', 'Hypertension', 29.5)\n",
      "('Texas', 'Diabetes', 12.0)\n",
      "('California', 'Hypertension', 29.5)\n",
      "('Texas', 'Diabetes', 12.0)\n"
     ]
    }
   ],
   "source": [
    "# SQL query to select states and diseases with a prevalence rate greater than 10\n",
    "cursor.execute('''\n",
    "SELECT state_name, disease_name, disease_prevalence_rate\n",
    "FROM States\n",
    "JOIN ChronicDiseases ON States.state_id = ChronicDiseases.state_id\n",
    "WHERE disease_prevalence_rate > 10;\n",
    "''')\n",
    "\n",
    "# Fetch all the results\n",
    "results = cursor.fetchall()\n",
    "\n",
    "# Print the results\n",
    "for row in results:\n",
    "    print(row)"
   ]
  },
  {
   "cell_type": "code",
   "execution_count": 69,
   "id": "1058fbbc-67ae-47cd-a9a6-97f93ee6c93c",
   "metadata": {},
   "outputs": [
    {
     "data": {
      "image/png": "[encoded data removed]",
      "text/plain": [
       "<Figure size 1000x600 with 1 Axes>"
      ]
     },
     "metadata": {},
     "output_type": "display_data"
    }
   ],
   "source": [
    "import sqlite3\n",
    "import matplotlib.pyplot as plt\n",
    "import pandas as pd\n",
    "\n",
    "# Connect to the database\n",
    "conn = sqlite3.connect('health_data.db')\n",
    "cursor = conn.cursor()\n",
    "\n",
    "# Execute a query to get disease prevalence rates\n",
    "query = '''\n",
    "SELECT States.state_name, ChronicDiseases.disease_name, ChronicDiseases.disease_prevalence_rate\n",
    "FROM States\n",
    "JOIN ChronicDiseases ON States.state_id = ChronicDiseases.state_id;\n",
    "'''\n",
    "df = pd.read_sql(query, conn)\n",
    "\n",
    "# Create a bar chart\n",
    "plt.figure(figsize=(10, 6))\n",
    "for disease in df['disease_name'].unique():\n",
    "    disease_data = df[df['disease_name'] == disease]\n",
    "    plt.bar(disease_data['state_name'], disease_data['disease_prevalence_rate'], label=disease)\n",
    "\n",
    "plt.xlabel('State')\n",
    "plt.ylabel('Prevalence Rate (%)')\n",
    "plt.title('Disease Prevalence by State')\n",
    "plt.xticks(rotation=45)\n",
    "plt.legend()\n",
    "plt.show()\n",
    "\n",
    "# Close the connection\n",
    "conn.close()\n"
   ]
  },
  {
   "cell_type": "code",
   "execution_count": null,
   "id": "7f9cca05-73f0-49b2-b1e0-2f44fd553202",
   "metadata": {},
   "outputs": [],
   "source": []
  }
 ],
 "metadata": {
  "kernelspec": {
   "display_name": "Python [conda env:base] *",
   "language": "python",
   "name": "conda-base-py"
  },
  "language_info": {
   "codemirror_mode": {
    "name": "ipython",
    "version": 3
   },
   "file_extension": ".py",
   "mimetype": "text/x-python",
   "name": "python",
   "nbconvert_exporter": "python",
   "pygments_lexer": "ipython3",
   "version": "3.12.7"
  }
 },
 "nbformat": 4,
 "nbformat_minor": 5
}
