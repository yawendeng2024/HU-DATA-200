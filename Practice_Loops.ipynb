{
  "nbformat": 4,
  "nbformat_minor": 0,
  "metadata": {
    "colab": {
      "provenance": []
    },
    "kernelspec": {
      "name": "python3",
      "display_name": "Python 3"
    },
    "language_info": {
      "name": "python"
    }
  },
  "cells": [
    {
      "cell_type": "code",
      "execution_count": null,
      "metadata": {
        "colab": {
          "base_uri": "https://localhost:8080/"
        },
        "id": "_TvSdJ0rNS7i",
        "outputId": "131124ac-67a6-47bd-a482-7f37628a293d"
      },
      "outputs": [
        {
          "output_type": "stream",
          "name": "stdout",
          "text": [
            "Hello\n",
            "Hello\n",
            "Hello\n",
            "Hello\n",
            "Hello\n"
          ]
        }
      ],
      "source": [
        "print(\"Hello\")\n",
        "print(\"Hello\")\n",
        "print(\"Hello\")\n",
        "print(\"Hello\")\n",
        "print(\"Hello\")\n"
      ]
    },
    {
      "cell_type": "code",
      "source": [
        "print(5*\"Hello. \\n knlh \\n\\n\")"
      ],
      "metadata": {
        "colab": {
          "base_uri": "https://localhost:8080/"
        },
        "id": "G9ALhKMTNZUH",
        "outputId": "0a34bb49-3cc6-4a10-d42a-b4e3ed8c2c54"
      },
      "execution_count": null,
      "outputs": [
        {
          "output_type": "stream",
          "name": "stdout",
          "text": [
            "Hello. \n",
            " knlh \n",
            "\n",
            "Hello. \n",
            " knlh \n",
            "\n",
            "Hello. \n",
            " knlh \n",
            "\n",
            "Hello. \n",
            " knlh \n",
            "\n",
            "Hello. \n",
            " knlh \n",
            "\n",
            "\n"
          ]
        }
      ]
    },
    {
      "cell_type": "code",
      "source": [
        "for i in range(10):\n",
        "    print(\"Hello\")\n",
        "\n"
      ],
      "metadata": {
        "colab": {
          "base_uri": "https://localhost:8080/"
        },
        "id": "OEWVa7snFGfY",
        "outputId": "1ea6d28e-0467-46cf-d70b-484d2c76f7ee"
      },
      "execution_count": null,
      "outputs": [
        {
          "output_type": "stream",
          "name": "stdout",
          "text": [
            "Hello\n",
            "Hello\n",
            "Hello\n",
            "Hello\n",
            "Hello\n",
            "Hello\n",
            "Hello\n",
            "Hello\n",
            "Hello\n",
            "Hello\n"
          ]
        }
      ]
    },
    {
      "cell_type": "code",
      "source": [
        "count = 0 # counting variable\n",
        "\n",
        "while count < 5:\n",
        "    print(\"Hello\")\n",
        "    count = count + 1\n"
      ],
      "metadata": {
        "colab": {
          "base_uri": "https://localhost:8080/"
        },
        "id": "6XwUrFQtGT0Y",
        "outputId": "a7924f24-6395-4466-e06a-712bbe27669d"
      },
      "execution_count": null,
      "outputs": [
        {
          "output_type": "stream",
          "name": "stdout",
          "text": [
            "Hello\n",
            "Hello\n",
            "Hello\n",
            "Hello\n",
            "Hello\n"
          ]
        }
      ]
    },
    {
      "cell_type": "code",
      "source": [
        "for row in range(10):\n",
        "    for column in range(5):\n",
        "        print(\"#\", end=\"\")\n",
        "    print(\"\") # add new line character\n"
      ],
      "metadata": {
        "colab": {
          "base_uri": "https://localhost:8080/"
        },
        "id": "OtyU3kpuHUwJ",
        "outputId": "ce734699-7100-4cca-d0be-203828ed30b8"
      },
      "execution_count": null,
      "outputs": [
        {
          "output_type": "stream",
          "name": "stdout",
          "text": [
            "#####\n",
            "#####\n",
            "#####\n",
            "#####\n",
            "#####\n",
            "#####\n",
            "#####\n",
            "#####\n",
            "#####\n",
            "#####\n"
          ]
        }
      ]
    },
    {
      "cell_type": "code",
      "source": [
        "for i in range(10):\n",
        "    print(\"5\" + str(i))\n"
      ],
      "metadata": {
        "id": "rTqgBsvwO873"
      },
      "execution_count": null,
      "outputs": []
    },
    {
      "cell_type": "code",
      "source": [
        "#all grades in a a list\n",
        "\n",
        "grades = [45,34,78,455,656]\n",
        "\n",
        "#+5 all student grades\n",
        "for student in grades:\n",
        "    print(student + 5)\n"
      ],
      "metadata": {
        "colab": {
          "base_uri": "https://localhost:8080/"
        },
        "id": "gSMWsSnWR9Ls",
        "outputId": "72495b24-44f2-40a3-872f-06dff1e64660"
      },
      "execution_count": null,
      "outputs": [
        {
          "output_type": "stream",
          "name": "stdout",
          "text": [
            "50\n",
            "39\n",
            "83\n",
            "460\n",
            "661\n"
          ]
        }
      ]
    },
    {
      "cell_type": "code",
      "source": [
        "Name = [\"Amy\", \"Andre\", \"Jessica\"]\n",
        "\n",
        "for person in Name:\n",
        "  print(\")"
      ],
      "metadata": {
        "colab": {
          "base_uri": "https://localhost:8080/"
        },
        "id": "r_nHr-g1JSdg",
        "outputId": "d6da5bd9-ec7d-4564-f5a3-65fed1f6118d"
      },
      "execution_count": null,
      "outputs": [
        {
          "output_type": "stream",
          "name": "stdout",
          "text": [
            "Goodnight Dr. Amy Welcome to Howard\n",
            "Goodnight Dr. Andre Welcome to Howard\n",
            "Goodnight Dr. Jessica Welcome to Howard\n"
          ]
        }
      ]
    },
    {
      "cell_type": "code",
      "source": [
        "for row in range(10):\n",
        "    for column in range(10):\n",
        "        print(\"#\", end=\"\")\n",
        "    print(\"\") # add new line character\n"
      ],
      "metadata": {
        "id": "OIojMmGmRcIN"
      },
      "execution_count": null,
      "outputs": []
    },
    {
      "cell_type": "code",
      "source": [
        "\n",
        "black_movie_stars = [\"Denzel Washington\", \"Halle Berry\", \"Morgan Freeman\", \"Samuel L. Jackson\", \"Viola Davis\"]\n",
        "\n",
        "for star in black_movie_stars:\n",
        "    print(star +\" star star\")\n"
      ],
      "metadata": {
        "colab": {
          "base_uri": "https://localhost:8080/"
        },
        "id": "a-Kf9RwcR0Q3",
        "outputId": "d2229081-6a3b-4f4a-e864-315748a3ef74"
      },
      "execution_count": null,
      "outputs": [
        {
          "output_type": "stream",
          "name": "stdout",
          "text": [
            "Denzel Washington star star\n",
            "Halle Berry star star\n",
            "Morgan Freeman star star\n",
            "Samuel L. Jackson star star\n",
            "Viola Davis star star\n"
          ]
        }
      ]
    },
    {
      "cell_type": "code",
      "source": [
        "longest_name = black_movie_stars[0]\n",
        "\n",
        "for star in black_movie_stars: #for loop\n",
        "\n",
        "    if len(star) > len(longest_name): # cond statement\n",
        "        longest_name = star\n",
        "\n",
        "print(longest_name)\n"
      ],
      "metadata": {
        "id": "8htC73IOT0zP",
        "outputId": "f2210fab-45d2-47ea-ba7e-27d83dada2a9",
        "colab": {
          "base_uri": "https://localhost:8080/"
        }
      },
      "execution_count": null,
      "outputs": [
        {
          "output_type": "stream",
          "name": "stdout",
          "text": [
            "Denzel Washington\n"
          ]
        }
      ]
    }
  ]
}