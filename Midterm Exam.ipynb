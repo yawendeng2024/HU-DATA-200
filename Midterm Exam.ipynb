{
 "cells": [
  {
   "cell_type": "code",
   "execution_count": 5,
   "id": "11ffcffb-cfcd-46bb-b174-2e76be43c1e1",
   "metadata": {},
   "outputs": [
    {
     "name": "stdout",
     "output_type": "stream",
     "text": [
      "['.Rhistory', 'Lab1.Rmd', '.config', 'Music', '.condarc', 'Untitled1.ipynb', '.DS_Store', 'cleaned_health_outcome_data.csv', '.CFUserTextEncoding', 'Nutrition__Physical_Activity__and_Obesity_-_Behavioral_Risk_Factor_Surveillance_System_20250213.csv', '.xonshrc', 'fd2dbace-3737-c713-a4b7-42dcddc25e7f.png', 'anaconda_projects', 'Untitled.ipynb', '.zshrc', '.local', 'Pictures', '.zprofile', 'Commit3.ipynb', 'Paper1.Rmd', '.zsh_history', '.ipython', 'Desktop', 'Library', '.matplotlib', 'Commit 2 Updated.ipynb', 'Public', '.idlerc', '.tcshrc', '.RData', '.anaconda', 'cleaned_food_access_data.csv', 'Movies', '.Rapp.history', '.Trash', '.ipynb_checkpoints', 'FoodAccessResearchAtlasData2019.csv', '.jupyter', 'Documents', 'cleaned_health_outcome_data1.csv', '.bash_profile', 'Downloads', '.python_history', '.continuum', 'cleaned_food_access_data1.csv', '.zsh_sessions', 'Assignment1.ipynb', '.conda']\n"
     ]
    }
   ],
   "source": [
    "import os\n",
    "print(os.listdir())"
   ]
  },
  {
   "cell_type": "code",
   "execution_count": 7,
   "id": "d61077e9-24e8-4b8c-9728-85ce45c9977e",
   "metadata": {},
   "outputs": [],
   "source": [
    "import pandas as pd\n",
    "import numpy as np\n",
    "import matplotlib.pyplot as plt\n",
    "import seaborn as sns"
   ]
  },
  {
   "cell_type": "markdown",
   "id": "1afe0d33-1b88-4718-9035-b8149add8d6a",
   "metadata": {},
   "source": [
    "# Research Question\n",
    "# How does limited access to grocery stores in low-income communities, particularly communities of color,\n",
    "# contribute to disparities in obesity rates in the United States?"
   ]
  },
  {
   "cell_type": "code",
   "execution_count": 12,
   "id": "9e0353a3-a8c4-45a0-b545-7f90489e01c2",
   "metadata": {},
   "outputs": [],
   "source": [
    "# Load Datasets\n",
    "food_access_data = pd.read_csv(\"FoodAccessResearchAtlasData2019.csv\")\n",
    "health_outcome_data = pd.read_csv(\"Nutrition__Physical_Activity__and_Obesity_-_Behavioral_Risk_Factor_Surveillance_System_20250213.csv\")"
   ]
  },
  {
   "cell_type": "code",
   "execution_count": 14,
   "id": "0717a8b3-10bb-44cd-885c-3c9fb027504c",
   "metadata": {},
   "outputs": [
    {
     "name": "stdout",
     "output_type": "stream",
     "text": [
      "Food Access Data:\n",
      "   CensusTract    State          County  Urban  Pop2010  OHU2010  \\\n",
      "0   1001020100  Alabama  Autauga County      1     1912      693   \n",
      "1   1001020200  Alabama  Autauga County      1     2170      743   \n",
      "2   1001020300  Alabama  Autauga County      1     3373     1256   \n",
      "3   1001020400  Alabama  Autauga County      1     4386     1722   \n",
      "4   1001020500  Alabama  Autauga County      1    10766     4082   \n",
      "\n",
      "   GroupQuartersFlag  NUMGQTRS  PCTGQTRS  LILATracts_1And10  ...  \\\n",
      "0                  0       0.0      0.00                  0  ...   \n",
      "1                  0     181.0      8.34                  1  ...   \n",
      "2                  0       0.0      0.00                  0  ...   \n",
      "3                  0       0.0      0.00                  0  ...   \n",
      "4                  0     181.0      1.68                  0  ...   \n",
      "\n",
      "   TractSeniors  TractWhite  TractBlack  TractAsian  TractNHOPI  TractAIAN  \\\n",
      "0         221.0      1622.0       217.0        14.0         0.0       14.0   \n",
      "1         214.0       888.0      1217.0         5.0         0.0        5.0   \n",
      "2         439.0      2576.0       647.0        17.0         5.0       11.0   \n",
      "3         904.0      4086.0       193.0        18.0         4.0       11.0   \n",
      "4        1126.0      8666.0      1437.0       296.0         9.0       48.0   \n",
      "\n",
      "   TractOMultir  TractHispanic  TractHUNV  TractSNAP  \n",
      "0          45.0           44.0        6.0      102.0  \n",
      "1          55.0           75.0       89.0      156.0  \n",
      "2         117.0           87.0       99.0      172.0  \n",
      "3          74.0           85.0       21.0       98.0  \n",
      "4         310.0          355.0      230.0      339.0  \n",
      "\n",
      "[5 rows x 147 columns]\n",
      "<class 'pandas.core.frame.DataFrame'>\n",
      "RangeIndex: 72531 entries, 0 to 72530\n",
      "Columns: 147 entries, CensusTract to TractSNAP\n",
      "dtypes: float64(126), int64(19), object(2)\n",
      "memory usage: 81.3+ MB\n",
      "None\n"
     ]
    }
   ],
   "source": [
    "# Data Overview\n",
    "print(\"Food Access Data:\")\n",
    "print(food_access_data.head())\n",
    "print(food_access_data.info())"
   ]
  },
  {
   "cell_type": "code",
   "execution_count": 16,
   "id": "745594b6-3c37-4ae3-90ef-dfb8200da954",
   "metadata": {},
   "outputs": [
    {
     "name": "stdout",
     "output_type": "stream",
     "text": [
      "Health Outcome Data:\n",
      "   YearStart  YearEnd LocationAbbr LocationDesc Datasource  \\\n",
      "0       2011     2011           AK       Alaska      BRFSS   \n",
      "1       2011     2011           AK       Alaska      BRFSS   \n",
      "2       2011     2011           AK       Alaska      BRFSS   \n",
      "3       2011     2011           AK       Alaska      BRFSS   \n",
      "4       2011     2011           AK       Alaska      BRFSS   \n",
      "\n",
      "                     Class                         Topic  \\\n",
      "0  Obesity / Weight Status       Obesity / Weight Status   \n",
      "1  Obesity / Weight Status       Obesity / Weight Status   \n",
      "2        Physical Activity  Physical Activity - Behavior   \n",
      "3  Obesity / Weight Status       Obesity / Weight Status   \n",
      "4  Obesity / Weight Status       Obesity / Weight Status   \n",
      "\n",
      "                                            Question  Data_Value_Unit  \\\n",
      "0  Percent of adults aged 18 years and older who ...           2011.0   \n",
      "1  Percent of adults aged 18 years and older who ...           2011.0   \n",
      "2  Percent of adults who achieve at least 150 min...           2011.0   \n",
      "3  Percent of adults aged 18 years and older who ...           2011.0   \n",
      "4  Percent of adults aged 18 years and older who ...           2011.0   \n",
      "\n",
      "  Data_Value_Type  ...                        GeoLocation  ClassID TopicID  \\\n",
      "0           Value  ...  (64.845079957001, -147.722059036)      OWS    OWS1   \n",
      "1           Value  ...  (64.845079957001, -147.722059036)      OWS    OWS1   \n",
      "2           Value  ...  (64.845079957001, -147.722059036)       PA     PA1   \n",
      "3           Value  ...  (64.845079957001, -147.722059036)      OWS    OWS1   \n",
      "4           Value  ...  (64.845079957001, -147.722059036)      OWS    OWS1   \n",
      "\n",
      "  QuestionID  DataValueTypeID  LocationID  StratificationCategory1  \\\n",
      "0       Q036            VALUE           2           Race/Ethnicity   \n",
      "1       Q036            VALUE           2           Race/Ethnicity   \n",
      "2       Q044            VALUE           2                      Sex   \n",
      "3       Q036            VALUE           2              Age (years)   \n",
      "4       Q037            VALUE           2                   Income   \n",
      "\n",
      "     Stratification1 StratificationCategoryId1 StratificationID1  \n",
      "0    2 or more races                      RACE         RACE2PLUS  \n",
      "1              Other                      RACE           RACEOTH  \n",
      "2             Female                       SEX            FEMALE  \n",
      "3            35 - 44                     AGEYR         AGEYR3544  \n",
      "4  $15,000 - $24,999                       INC           INC1525  \n",
      "\n",
      "[5 rows x 33 columns]\n",
      "<class 'pandas.core.frame.DataFrame'>\n",
      "RangeIndex: 104272 entries, 0 to 104271\n",
      "Data columns (total 33 columns):\n",
      " #   Column                      Non-Null Count   Dtype  \n",
      "---  ------                      --------------   -----  \n",
      " 0   YearStart                   104272 non-null  int64  \n",
      " 1   YearEnd                     104272 non-null  int64  \n",
      " 2   LocationAbbr                104272 non-null  object \n",
      " 3   LocationDesc                104272 non-null  object \n",
      " 4   Datasource                  104272 non-null  object \n",
      " 5   Class                       104272 non-null  object \n",
      " 6   Topic                       104272 non-null  object \n",
      " 7   Question                    104272 non-null  object \n",
      " 8   Data_Value_Unit             88872 non-null   float64\n",
      " 9   Data_Value_Type             104272 non-null  object \n",
      " 10  Data_Value                  93505 non-null   float64\n",
      " 11  Data_Value_Alt              93505 non-null   float64\n",
      " 12  Data_Value_Footnote_Symbol  10767 non-null   object \n",
      " 13  Data_Value_Footnote         10767 non-null   object \n",
      " 14  Low_Confidence_Limit        93505 non-null   float64\n",
      " 15  High_Confidence_Limit       93505 non-null   float64\n",
      " 16  Sample_Size                 93505 non-null   float64\n",
      " 17  Total                       3724 non-null    object \n",
      " 18  Age(years)                  22344 non-null   object \n",
      " 19  Education                   14896 non-null   object \n",
      " 20  Sex                         7448 non-null    object \n",
      " 21  Income                      26068 non-null   object \n",
      " 22  Race/Ethnicity              29792 non-null   object \n",
      " 23  GeoLocation                 102340 non-null  object \n",
      " 24  ClassID                     104272 non-null  object \n",
      " 25  TopicID                     104272 non-null  object \n",
      " 26  QuestionID                  104272 non-null  object \n",
      " 27  DataValueTypeID             104272 non-null  object \n",
      " 28  LocationID                  104272 non-null  int64  \n",
      " 29  StratificationCategory1     104272 non-null  object \n",
      " 30  Stratification1             104272 non-null  object \n",
      " 31  StratificationCategoryId1   104272 non-null  object \n",
      " 32  StratificationID1           104272 non-null  object \n",
      "dtypes: float64(6), int64(3), object(24)\n",
      "memory usage: 26.3+ MB\n",
      "None\n"
     ]
    }
   ],
   "source": [
    "print(\"Health Outcome Data:\")\n",
    "print(health_outcome_data.head())\n",
    "print(health_outcome_data.info())"
   ]
  },
  {
   "cell_type": "code",
   "execution_count": 18,
   "id": "3c4c418a-38cc-4209-b725-95d3cef641ac",
   "metadata": {},
   "outputs": [
    {
     "name": "stdout",
     "output_type": "stream",
     "text": [
      "Missing values in Food Access Data:\n",
      "CensusTract      0\n",
      "State            0\n",
      "County           0\n",
      "Urban            0\n",
      "Pop2010          0\n",
      "                ..\n",
      "TractAIAN        4\n",
      "TractOMultir     4\n",
      "TractHispanic    4\n",
      "TractHUNV        4\n",
      "TractSNAP        4\n",
      "Length: 147, dtype: int64\n",
      "Missing values in Health Outcome Data:\n",
      "YearStart                          0\n",
      "YearEnd                            0\n",
      "LocationAbbr                       0\n",
      "LocationDesc                       0\n",
      "Datasource                         0\n",
      "Class                              0\n",
      "Topic                              0\n",
      "Question                           0\n",
      "Data_Value_Unit                15400\n",
      "Data_Value_Type                    0\n",
      "Data_Value                     10767\n",
      "Data_Value_Alt                 10767\n",
      "Data_Value_Footnote_Symbol     93505\n",
      "Data_Value_Footnote            93505\n",
      "Low_Confidence_Limit           10767\n",
      "High_Confidence_Limit          10767\n",
      "Sample_Size                    10767\n",
      "Total                         100548\n",
      "Age(years)                     81928\n",
      "Education                      89376\n",
      "Sex                            96824\n",
      "Income                         78204\n",
      "Race/Ethnicity                 74480\n",
      "GeoLocation                     1932\n",
      "ClassID                            0\n",
      "TopicID                            0\n",
      "QuestionID                         0\n",
      "DataValueTypeID                    0\n",
      "LocationID                         0\n",
      "StratificationCategory1            0\n",
      "Stratification1                    0\n",
      "StratificationCategoryId1          0\n",
      "StratificationID1                  0\n",
      "dtype: int64\n"
     ]
    }
   ],
   "source": [
    "# Data Cleaning\n",
    "# Checking for missing values\n",
    "print(\"Missing values in Food Access Data:\")\n",
    "print(food_access_data.isnull().sum())\n",
    "print(\"Missing values in Health Outcome Data:\")\n",
    "print(health_outcome_data.isnull().sum())"
   ]
  },
  {
   "cell_type": "code",
   "execution_count": 20,
   "id": "24ba7cee-9c55-40a4-8c7b-1280054e6db3",
   "metadata": {},
   "outputs": [],
   "source": [
    "# Drop unnecessary columns to reduce noise\n",
    "food_access_data = food_access_data[['CensusTract', 'State', 'County', 'Pop2010', 'LILATracts_1And10', 'TractSNAP']]\n",
    "health_outcome_data = health_outcome_data[['LocationID', 'LocationDesc', 'Data_Value', 'Stratification1', 'StratificationCategory1']]"
   ]
  },
  {
   "cell_type": "code",
   "execution_count": 22,
   "id": "0d7e58f8-15f6-416a-a3ba-718627ec6f5a",
   "metadata": {},
   "outputs": [],
   "source": [
    "# Merge the datasets on CensusTract and LocationID\n",
    "merged_data = pd.merge(food_access_data, health_outcome_data, left_on='CensusTract', right_on='LocationID')"
   ]
  },
  {
   "cell_type": "markdown",
   "id": "f646d64a-38ef-43f8-93e3-fd8f1287d4dd",
   "metadata": {},
   "source": [
    "# Data Dictionary\n",
    "# CensusTract: Unique identifier for a geographic area\n",
    "# State: State name\n",
    "# County: County name\n",
    "# Pop2010: Population in 2010 Census\n",
    "# LILATracts_1And10: Low Income and Low Access tract indicator\n",
    "# TractSNAP: Households receiving SNAP benefits (proxy for low income)\n",
    "# LocationID: Matching ID in health dataset\n",
    "# LocationDesc: Location description\n",
    "# Data_Value: Obesity prevalence rate (%)\n",
    "# Stratification1: Demographic breakdown (e.g., Race/Ethnicity)\n",
    "# StratificationCategory1: Demographic category (e.g., Race, Income)"
   ]
  },
  {
   "cell_type": "code",
   "execution_count": 28,
   "id": "a2cdd106-f60c-41f2-ab33-77b1feb20e42",
   "metadata": {},
   "outputs": [],
   "source": [
    "# Exploratory Data Analysis (EDA) \n",
    "# Creating a new variable for Food Desert Severity\n",
    "merged_data['FoodDesertSeverity'] = np.where(\n",
    "    (merged_data['LILATracts_1And10'] == 1) & (merged_data['TractSNAP'] > 0), 'Severe', 'Moderate'\n",
    ")"
   ]
  },
  {
   "cell_type": "code",
   "execution_count": 32,
   "id": "18faddde-55df-4e9a-a5d4-4e27e3c96e3a",
   "metadata": {},
   "outputs": [
    {
     "name": "stderr",
     "output_type": "stream",
     "text": [
      "/var/folders/c4/mwls6lk56m99nbxsclf1gczc0000gp/T/ipykernel_12997/2284020302.py:8: UserWarning: No artists with labels found to put in legend.  Note that artists whose label start with an underscore are ignored when legend() is called with no argument.\n",
      "  plt.legend(title='Food Desert Severity')\n"
     ]
    },
    {
     "data": {
      "image/png": "[encoded data removed]",
      "text/plain": [
       "<Figure size 1200x600 with 1 Axes>"
      ]
     },
     "metadata": {},
     "output_type": "display_data"
    }
   ],
   "source": [
    "# Visualization: Obesity Rate by Race/Ethnicity and Food Access \n",
    "plt.figure(figsize=(12, 6))\n",
    "sns.boxplot(data=merged_data, x='Stratification1', y='Data_Value', hue='FoodDesertSeverity')\n",
    "plt.title('Obesity Prevalence by Race/Ethnicity and Food Access Severity')\n",
    "plt.xlabel('Race/Ethnicity')\n",
    "plt.ylabel('Obesity Prevalence (%)')\n",
    "plt.xticks(rotation=45)\n",
    "plt.legend(title='Food Desert Severity')\n",
    "plt.show()"
   ]
  },
  {
   "cell_type": "markdown",
   "id": "984ac589-0dc9-4ecb-8f58-b0a95991f28e",
   "metadata": {},
   "source": [
    "# Insights & Recommendations\n",
    "# 1. There is a correlation between food desert severity and higher obesity rates in communities of color.\n",
    "# 2. Policy interventions should target increasing grocery store access in high-SNAP participation areas.\n",
    "# 3. More granular analysis by age and gender could further refine the impact assessment."
   ]
  },
  {
   "cell_type": "markdown",
   "id": "e87ea573-ad62-48b1-8b64-dc6d3799cad9",
   "metadata": {},
   "source": [
    "# Next Steps\n",
    "# - Conduct a regression analysis to quantify the impact of food deserts on obesity prevalence.\n",
    "# - Incorporate additional socioeconomic variables to control for confounding factors.\n",
    "# - Expand analysis to include time trends using multiple years of BRFSS data."
   ]
  },
  {
   "cell_type": "code",
   "execution_count": 34,
   "id": "68ca75c3-a237-4319-81f9-42efc6c64f54",
   "metadata": {},
   "outputs": [],
   "source": [
    "# Save the cleaned dataset for future use\n",
    "merged_data.to_csv(\"cleaned_merged_data.csv\", index=False)"
   ]
  },
  {
   "cell_type": "code",
   "execution_count": null,
   "id": "9c83c181-19b0-4ba7-b0b2-173a57ca5695",
   "metadata": {},
   "outputs": [],
   "source": []
  }
 ],
 "metadata": {
  "kernelspec": {
   "display_name": "Python [conda env:base] *",
   "language": "python",
   "name": "conda-base-py"
  },
  "language_info": {
   "codemirror_mode": {
    "name": "ipython",
    "version": 3
   },
   "file_extension": ".py",
   "mimetype": "text/x-python",
   "name": "python",
   "nbconvert_exporter": "python",
   "pygments_lexer": "ipython3",
   "version": "3.12.7"
  }
 },
 "nbformat": 4,
 "nbformat_minor": 5
}
