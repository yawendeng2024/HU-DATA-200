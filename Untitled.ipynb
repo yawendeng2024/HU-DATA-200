{
 "cells": [
  {
   "cell_type": "markdown",
   "id": "b0ef8f85-e778-436c-b311-f0c55ff3a5bb",
   "metadata": {},
   "source": [
    "Refined Research Question:\n",
    "\n",
    "How does limited access to grocery stores in low-income communities, particularly communities of color, contribute to disparities in obesity rates in the United States?"
   ]
  },
  {
   "cell_type": "markdown",
   "id": "43b7d84c-b7b4-4bbd-9837-664dfa9242f1",
   "metadata": {},
   "source": [
    "Rationale for Refinement: \n",
    "\n",
    "The refined research question now explicitly highlights the social justice aspect by incorporating communities of color. This adjustment emphasizes the historical and systemic inequalities faced by marginalized populations, particularly in relation to access to nutritious food. The new question brings attention to how geographic and economic barriers disproportionately affect these communities' health outcomes, aligning with a social justice lens."
   ]
  },
  {
   "cell_type": "markdown",
   "id": "2d9f93eb-f75a-4eb6-9453-31293d895baf",
   "metadata": {},
   "source": [
    "Preliminary Data Analysis:\n",
    "\n",
    "From the exploration of the datasets, it is clear that food deserts—areas where access to fresh, affordable, and nutritious food is limited—are more prevalent in low-income and minority communities. The Food Access Research Atlas provides valuable insight into areas with limited access to grocery stores, while the Behavioral Risk Factor Surveillance System (BRFSS) data sheds light on obesity rates across various communities."
   ]
  },
  {
   "cell_type": "markdown",
   "id": "59b54f4b-a469-45de-98f3-9804cabefeca",
   "metadata": {},
   "source": [
    "Key Variables:\n",
    "\n",
    "Food Access Data (Food Desert Severity): We created a new variable to measure food desert severity based on the distance to grocery stores. This new column categorizes the level of food access into four groups:\n",
    "\n",
    "0: No limited access (reference group)\n",
    "1: Limited access within 1 mile\n",
    "2: Limited access within ½ mile\n",
    "3: Severe food desert (both 1-mile and ½-mile access limitations)\n",
    "Health Outcome Data (Obesity Prevalence): This dataset provides obesity prevalence rates across different regions, stratified by various factors such as race/ethnicity, income, and age."
   ]
  },
  {
   "cell_type": "markdown",
   "id": "9e40fbee-9f04-4e95-aadc-bf07097c9bef",
   "metadata": {},
   "source": [
    "Visualization:"
   ]
  },
  {
   "cell_type": "code",
   "execution_count": 11,
   "id": "ad6d5507-bd9f-425c-8576-8b56d4ba2bc0",
   "metadata": {},
   "outputs": [
    {
     "name": "stdout",
     "output_type": "stream",
     "text": [
      "['.Rhistory', 'Lab1.Rmd', '.config', 'Music', '.condarc', '.DS_Store', 'cleaned_health_outcome_data.csv', '.CFUserTextEncoding', 'Nutrition__Physical_Activity__and_Obesity_-_Behavioral_Risk_Factor_Surveillance_System_20250213.csv', '.xonshrc', 'fd2dbace-3737-c713-a4b7-42dcddc25e7f.png', 'anaconda_projects', 'Untitled.ipynb', '.zshrc', '.local', 'Pictures', '.zprofile', 'Commit3.ipynb', '.zsh_history', '.ipython', 'Desktop', 'Library', '.matplotlib', 'Commit 2 Updated.ipynb', 'Public', '.idlerc', '.tcshrc', '.RData', '.anaconda', 'cleaned_food_access_data.csv', 'Movies', '.Rapp.history', '.Trash', '.ipynb_checkpoints', 'FoodAccessResearchAtlasData2019.csv', '.jupyter', 'Documents', 'cleaned_health_outcome_data1.csv', '.bash_profile', 'Downloads', '.python_history', '.continuum', 'cleaned_food_access_data1.csv', '.zsh_sessions', 'Assignment1.ipynb', '.conda']\n"
     ]
    }
   ],
   "source": [
    "import os\n",
    "print(os.listdir())"
   ]
  },
  {
   "cell_type": "code",
   "execution_count": 13,
   "id": "9f63e54a-bb82-44ef-b58d-f7958ed415b3",
   "metadata": {},
   "outputs": [],
   "source": [
    "import numpy as np\n",
    "import pandas as pd\n",
    "import matplotlib.pyplot as plt\n",
    "import seaborn as sns"
   ]
  },
  {
   "cell_type": "code",
   "execution_count": 15,
   "id": "b4acfba9-65dc-4814-9b17-5416a16d423b",
   "metadata": {},
   "outputs": [
    {
     "data": {
      "text/html": [
       "<div>\n",
       "<style scoped>\n",
       "    .dataframe tbody tr th:only-of-type {\n",
       "        vertical-align: middle;\n",
       "    }\n",
       "\n",
       "    .dataframe tbody tr th {\n",
       "        vertical-align: top;\n",
       "    }\n",
       "\n",
       "    .dataframe thead th {\n",
       "        text-align: right;\n",
       "    }\n",
       "</style>\n",
       "<table border=\"1\" class=\"dataframe\">\n",
       "  <thead>\n",
       "    <tr style=\"text-align: right;\">\n",
       "      <th></th>\n",
       "      <th>CensusTract</th>\n",
       "      <th>State</th>\n",
       "      <th>County</th>\n",
       "      <th>Urban</th>\n",
       "      <th>Pop2010</th>\n",
       "      <th>OHU2010</th>\n",
       "      <th>GroupQuartersFlag</th>\n",
       "      <th>NUMGQTRS</th>\n",
       "      <th>PCTGQTRS</th>\n",
       "      <th>LILATracts_1And10</th>\n",
       "      <th>...</th>\n",
       "      <th>TractSeniors</th>\n",
       "      <th>TractWhite</th>\n",
       "      <th>TractBlack</th>\n",
       "      <th>TractAsian</th>\n",
       "      <th>TractNHOPI</th>\n",
       "      <th>TractAIAN</th>\n",
       "      <th>TractOMultir</th>\n",
       "      <th>TractHispanic</th>\n",
       "      <th>TractHUNV</th>\n",
       "      <th>TractSNAP</th>\n",
       "    </tr>\n",
       "  </thead>\n",
       "  <tbody>\n",
       "    <tr>\n",
       "      <th>0</th>\n",
       "      <td>1001020100</td>\n",
       "      <td>Alabama</td>\n",
       "      <td>Autauga County</td>\n",
       "      <td>1</td>\n",
       "      <td>1912</td>\n",
       "      <td>693</td>\n",
       "      <td>0</td>\n",
       "      <td>0.0</td>\n",
       "      <td>0.00</td>\n",
       "      <td>0</td>\n",
       "      <td>...</td>\n",
       "      <td>221.0</td>\n",
       "      <td>1622.0</td>\n",
       "      <td>217.0</td>\n",
       "      <td>14.0</td>\n",
       "      <td>0.0</td>\n",
       "      <td>14.0</td>\n",
       "      <td>45.0</td>\n",
       "      <td>44.0</td>\n",
       "      <td>6.0</td>\n",
       "      <td>102.0</td>\n",
       "    </tr>\n",
       "    <tr>\n",
       "      <th>1</th>\n",
       "      <td>1001020200</td>\n",
       "      <td>Alabama</td>\n",
       "      <td>Autauga County</td>\n",
       "      <td>1</td>\n",
       "      <td>2170</td>\n",
       "      <td>743</td>\n",
       "      <td>0</td>\n",
       "      <td>181.0</td>\n",
       "      <td>8.34</td>\n",
       "      <td>1</td>\n",
       "      <td>...</td>\n",
       "      <td>214.0</td>\n",
       "      <td>888.0</td>\n",
       "      <td>1217.0</td>\n",
       "      <td>5.0</td>\n",
       "      <td>0.0</td>\n",
       "      <td>5.0</td>\n",
       "      <td>55.0</td>\n",
       "      <td>75.0</td>\n",
       "      <td>89.0</td>\n",
       "      <td>156.0</td>\n",
       "    </tr>\n",
       "    <tr>\n",
       "      <th>2</th>\n",
       "      <td>1001020300</td>\n",
       "      <td>Alabama</td>\n",
       "      <td>Autauga County</td>\n",
       "      <td>1</td>\n",
       "      <td>3373</td>\n",
       "      <td>1256</td>\n",
       "      <td>0</td>\n",
       "      <td>0.0</td>\n",
       "      <td>0.00</td>\n",
       "      <td>0</td>\n",
       "      <td>...</td>\n",
       "      <td>439.0</td>\n",
       "      <td>2576.0</td>\n",
       "      <td>647.0</td>\n",
       "      <td>17.0</td>\n",
       "      <td>5.0</td>\n",
       "      <td>11.0</td>\n",
       "      <td>117.0</td>\n",
       "      <td>87.0</td>\n",
       "      <td>99.0</td>\n",
       "      <td>172.0</td>\n",
       "    </tr>\n",
       "    <tr>\n",
       "      <th>3</th>\n",
       "      <td>1001020400</td>\n",
       "      <td>Alabama</td>\n",
       "      <td>Autauga County</td>\n",
       "      <td>1</td>\n",
       "      <td>4386</td>\n",
       "      <td>1722</td>\n",
       "      <td>0</td>\n",
       "      <td>0.0</td>\n",
       "      <td>0.00</td>\n",
       "      <td>0</td>\n",
       "      <td>...</td>\n",
       "      <td>904.0</td>\n",
       "      <td>4086.0</td>\n",
       "      <td>193.0</td>\n",
       "      <td>18.0</td>\n",
       "      <td>4.0</td>\n",
       "      <td>11.0</td>\n",
       "      <td>74.0</td>\n",
       "      <td>85.0</td>\n",
       "      <td>21.0</td>\n",
       "      <td>98.0</td>\n",
       "    </tr>\n",
       "    <tr>\n",
       "      <th>4</th>\n",
       "      <td>1001020500</td>\n",
       "      <td>Alabama</td>\n",
       "      <td>Autauga County</td>\n",
       "      <td>1</td>\n",
       "      <td>10766</td>\n",
       "      <td>4082</td>\n",
       "      <td>0</td>\n",
       "      <td>181.0</td>\n",
       "      <td>1.68</td>\n",
       "      <td>0</td>\n",
       "      <td>...</td>\n",
       "      <td>1126.0</td>\n",
       "      <td>8666.0</td>\n",
       "      <td>1437.0</td>\n",
       "      <td>296.0</td>\n",
       "      <td>9.0</td>\n",
       "      <td>48.0</td>\n",
       "      <td>310.0</td>\n",
       "      <td>355.0</td>\n",
       "      <td>230.0</td>\n",
       "      <td>339.0</td>\n",
       "    </tr>\n",
       "  </tbody>\n",
       "</table>\n",
       "<p>5 rows × 147 columns</p>\n",
       "</div>"
      ],
      "text/plain": [
       "   CensusTract    State          County  Urban  Pop2010  OHU2010  \\\n",
       "0   1001020100  Alabama  Autauga County      1     1912      693   \n",
       "1   1001020200  Alabama  Autauga County      1     2170      743   \n",
       "2   1001020300  Alabama  Autauga County      1     3373     1256   \n",
       "3   1001020400  Alabama  Autauga County      1     4386     1722   \n",
       "4   1001020500  Alabama  Autauga County      1    10766     4082   \n",
       "\n",
       "   GroupQuartersFlag  NUMGQTRS  PCTGQTRS  LILATracts_1And10  ...  \\\n",
       "0                  0       0.0      0.00                  0  ...   \n",
       "1                  0     181.0      8.34                  1  ...   \n",
       "2                  0       0.0      0.00                  0  ...   \n",
       "3                  0       0.0      0.00                  0  ...   \n",
       "4                  0     181.0      1.68                  0  ...   \n",
       "\n",
       "   TractSeniors  TractWhite  TractBlack  TractAsian  TractNHOPI  TractAIAN  \\\n",
       "0         221.0      1622.0       217.0        14.0         0.0       14.0   \n",
       "1         214.0       888.0      1217.0         5.0         0.0        5.0   \n",
       "2         439.0      2576.0       647.0        17.0         5.0       11.0   \n",
       "3         904.0      4086.0       193.0        18.0         4.0       11.0   \n",
       "4        1126.0      8666.0      1437.0       296.0         9.0       48.0   \n",
       "\n",
       "   TractOMultir  TractHispanic  TractHUNV  TractSNAP  \n",
       "0          45.0           44.0        6.0      102.0  \n",
       "1          55.0           75.0       89.0      156.0  \n",
       "2         117.0           87.0       99.0      172.0  \n",
       "3          74.0           85.0       21.0       98.0  \n",
       "4         310.0          355.0      230.0      339.0  \n",
       "\n",
       "[5 rows x 147 columns]"
      ]
     },
     "execution_count": 15,
     "metadata": {},
     "output_type": "execute_result"
    }
   ],
   "source": [
    "# Load the datasets\n",
    "food_access_data = pd.read_csv(\"FoodAccessResearchAtlasData2019.csv\")\n",
    "food_access_data.head()"
   ]
  },
  {
   "cell_type": "code",
   "execution_count": 17,
   "id": "17541027-4b6e-412a-8e8c-882a55c02141",
   "metadata": {},
   "outputs": [
    {
     "data": {
      "text/html": [
       "<div>\n",
       "<style scoped>\n",
       "    .dataframe tbody tr th:only-of-type {\n",
       "        vertical-align: middle;\n",
       "    }\n",
       "\n",
       "    .dataframe tbody tr th {\n",
       "        vertical-align: top;\n",
       "    }\n",
       "\n",
       "    .dataframe thead th {\n",
       "        text-align: right;\n",
       "    }\n",
       "</style>\n",
       "<table border=\"1\" class=\"dataframe\">\n",
       "  <thead>\n",
       "    <tr style=\"text-align: right;\">\n",
       "      <th></th>\n",
       "      <th>YearStart</th>\n",
       "      <th>YearEnd</th>\n",
       "      <th>LocationAbbr</th>\n",
       "      <th>LocationDesc</th>\n",
       "      <th>Datasource</th>\n",
       "      <th>Class</th>\n",
       "      <th>Topic</th>\n",
       "      <th>Question</th>\n",
       "      <th>Data_Value_Unit</th>\n",
       "      <th>Data_Value_Type</th>\n",
       "      <th>...</th>\n",
       "      <th>GeoLocation</th>\n",
       "      <th>ClassID</th>\n",
       "      <th>TopicID</th>\n",
       "      <th>QuestionID</th>\n",
       "      <th>DataValueTypeID</th>\n",
       "      <th>LocationID</th>\n",
       "      <th>StratificationCategory1</th>\n",
       "      <th>Stratification1</th>\n",
       "      <th>StratificationCategoryId1</th>\n",
       "      <th>StratificationID1</th>\n",
       "    </tr>\n",
       "  </thead>\n",
       "  <tbody>\n",
       "    <tr>\n",
       "      <th>0</th>\n",
       "      <td>2011</td>\n",
       "      <td>2011</td>\n",
       "      <td>AK</td>\n",
       "      <td>Alaska</td>\n",
       "      <td>BRFSS</td>\n",
       "      <td>Obesity / Weight Status</td>\n",
       "      <td>Obesity / Weight Status</td>\n",
       "      <td>Percent of adults aged 18 years and older who ...</td>\n",
       "      <td>2011.0</td>\n",
       "      <td>Value</td>\n",
       "      <td>...</td>\n",
       "      <td>(64.845079957001, -147.722059036)</td>\n",
       "      <td>OWS</td>\n",
       "      <td>OWS1</td>\n",
       "      <td>Q036</td>\n",
       "      <td>VALUE</td>\n",
       "      <td>2</td>\n",
       "      <td>Race/Ethnicity</td>\n",
       "      <td>2 or more races</td>\n",
       "      <td>RACE</td>\n",
       "      <td>RACE2PLUS</td>\n",
       "    </tr>\n",
       "    <tr>\n",
       "      <th>1</th>\n",
       "      <td>2011</td>\n",
       "      <td>2011</td>\n",
       "      <td>AK</td>\n",
       "      <td>Alaska</td>\n",
       "      <td>BRFSS</td>\n",
       "      <td>Obesity / Weight Status</td>\n",
       "      <td>Obesity / Weight Status</td>\n",
       "      <td>Percent of adults aged 18 years and older who ...</td>\n",
       "      <td>2011.0</td>\n",
       "      <td>Value</td>\n",
       "      <td>...</td>\n",
       "      <td>(64.845079957001, -147.722059036)</td>\n",
       "      <td>OWS</td>\n",
       "      <td>OWS1</td>\n",
       "      <td>Q036</td>\n",
       "      <td>VALUE</td>\n",
       "      <td>2</td>\n",
       "      <td>Race/Ethnicity</td>\n",
       "      <td>Other</td>\n",
       "      <td>RACE</td>\n",
       "      <td>RACEOTH</td>\n",
       "    </tr>\n",
       "    <tr>\n",
       "      <th>2</th>\n",
       "      <td>2011</td>\n",
       "      <td>2011</td>\n",
       "      <td>AK</td>\n",
       "      <td>Alaska</td>\n",
       "      <td>BRFSS</td>\n",
       "      <td>Physical Activity</td>\n",
       "      <td>Physical Activity - Behavior</td>\n",
       "      <td>Percent of adults who achieve at least 150 min...</td>\n",
       "      <td>2011.0</td>\n",
       "      <td>Value</td>\n",
       "      <td>...</td>\n",
       "      <td>(64.845079957001, -147.722059036)</td>\n",
       "      <td>PA</td>\n",
       "      <td>PA1</td>\n",
       "      <td>Q044</td>\n",
       "      <td>VALUE</td>\n",
       "      <td>2</td>\n",
       "      <td>Sex</td>\n",
       "      <td>Female</td>\n",
       "      <td>SEX</td>\n",
       "      <td>FEMALE</td>\n",
       "    </tr>\n",
       "    <tr>\n",
       "      <th>3</th>\n",
       "      <td>2011</td>\n",
       "      <td>2011</td>\n",
       "      <td>AK</td>\n",
       "      <td>Alaska</td>\n",
       "      <td>BRFSS</td>\n",
       "      <td>Obesity / Weight Status</td>\n",
       "      <td>Obesity / Weight Status</td>\n",
       "      <td>Percent of adults aged 18 years and older who ...</td>\n",
       "      <td>2011.0</td>\n",
       "      <td>Value</td>\n",
       "      <td>...</td>\n",
       "      <td>(64.845079957001, -147.722059036)</td>\n",
       "      <td>OWS</td>\n",
       "      <td>OWS1</td>\n",
       "      <td>Q036</td>\n",
       "      <td>VALUE</td>\n",
       "      <td>2</td>\n",
       "      <td>Age (years)</td>\n",
       "      <td>35 - 44</td>\n",
       "      <td>AGEYR</td>\n",
       "      <td>AGEYR3544</td>\n",
       "    </tr>\n",
       "    <tr>\n",
       "      <th>4</th>\n",
       "      <td>2011</td>\n",
       "      <td>2011</td>\n",
       "      <td>AK</td>\n",
       "      <td>Alaska</td>\n",
       "      <td>BRFSS</td>\n",
       "      <td>Obesity / Weight Status</td>\n",
       "      <td>Obesity / Weight Status</td>\n",
       "      <td>Percent of adults aged 18 years and older who ...</td>\n",
       "      <td>2011.0</td>\n",
       "      <td>Value</td>\n",
       "      <td>...</td>\n",
       "      <td>(64.845079957001, -147.722059036)</td>\n",
       "      <td>OWS</td>\n",
       "      <td>OWS1</td>\n",
       "      <td>Q037</td>\n",
       "      <td>VALUE</td>\n",
       "      <td>2</td>\n",
       "      <td>Income</td>\n",
       "      <td>$15,000 - $24,999</td>\n",
       "      <td>INC</td>\n",
       "      <td>INC1525</td>\n",
       "    </tr>\n",
       "  </tbody>\n",
       "</table>\n",
       "<p>5 rows × 33 columns</p>\n",
       "</div>"
      ],
      "text/plain": [
       "   YearStart  YearEnd LocationAbbr LocationDesc Datasource  \\\n",
       "0       2011     2011           AK       Alaska      BRFSS   \n",
       "1       2011     2011           AK       Alaska      BRFSS   \n",
       "2       2011     2011           AK       Alaska      BRFSS   \n",
       "3       2011     2011           AK       Alaska      BRFSS   \n",
       "4       2011     2011           AK       Alaska      BRFSS   \n",
       "\n",
       "                     Class                         Topic  \\\n",
       "0  Obesity / Weight Status       Obesity / Weight Status   \n",
       "1  Obesity / Weight Status       Obesity / Weight Status   \n",
       "2        Physical Activity  Physical Activity - Behavior   \n",
       "3  Obesity / Weight Status       Obesity / Weight Status   \n",
       "4  Obesity / Weight Status       Obesity / Weight Status   \n",
       "\n",
       "                                            Question  Data_Value_Unit  \\\n",
       "0  Percent of adults aged 18 years and older who ...           2011.0   \n",
       "1  Percent of adults aged 18 years and older who ...           2011.0   \n",
       "2  Percent of adults who achieve at least 150 min...           2011.0   \n",
       "3  Percent of adults aged 18 years and older who ...           2011.0   \n",
       "4  Percent of adults aged 18 years and older who ...           2011.0   \n",
       "\n",
       "  Data_Value_Type  ...                        GeoLocation  ClassID TopicID  \\\n",
       "0           Value  ...  (64.845079957001, -147.722059036)      OWS    OWS1   \n",
       "1           Value  ...  (64.845079957001, -147.722059036)      OWS    OWS1   \n",
       "2           Value  ...  (64.845079957001, -147.722059036)       PA     PA1   \n",
       "3           Value  ...  (64.845079957001, -147.722059036)      OWS    OWS1   \n",
       "4           Value  ...  (64.845079957001, -147.722059036)      OWS    OWS1   \n",
       "\n",
       "  QuestionID  DataValueTypeID  LocationID  StratificationCategory1  \\\n",
       "0       Q036            VALUE           2           Race/Ethnicity   \n",
       "1       Q036            VALUE           2           Race/Ethnicity   \n",
       "2       Q044            VALUE           2                      Sex   \n",
       "3       Q036            VALUE           2              Age (years)   \n",
       "4       Q037            VALUE           2                   Income   \n",
       "\n",
       "     Stratification1 StratificationCategoryId1 StratificationID1  \n",
       "0    2 or more races                      RACE         RACE2PLUS  \n",
       "1              Other                      RACE           RACEOTH  \n",
       "2             Female                       SEX            FEMALE  \n",
       "3            35 - 44                     AGEYR         AGEYR3544  \n",
       "4  $15,000 - $24,999                       INC           INC1525  \n",
       "\n",
       "[5 rows x 33 columns]"
      ]
     },
     "execution_count": 17,
     "metadata": {},
     "output_type": "execute_result"
    }
   ],
   "source": [
    "health_outcome_data = pd.read_csv(\"Nutrition__Physical_Activity__and_Obesity_-_Behavioral_Risk_Factor_Surveillance_System_20250213.csv\")\n",
    "health_outcome_data.head()"
   ]
  },
  {
   "cell_type": "code",
   "execution_count": 23,
   "id": "38a82bf1-8f33-48f8-92da-faf56be44483",
   "metadata": {},
   "outputs": [
    {
     "name": "stdout",
     "output_type": "stream",
     "text": [
      "Index(['CensusTract', 'State', 'County', 'Urban', 'Pop2010', 'OHU2010',\n",
      "       'GroupQuartersFlag', 'NUMGQTRS', 'PCTGQTRS', 'LILATracts_1And10',\n",
      "       ...\n",
      "       'TractSeniors', 'TractWhite', 'TractBlack', 'TractAsian', 'TractNHOPI',\n",
      "       'TractAIAN', 'TractOMultir', 'TractHispanic', 'TractHUNV', 'TractSNAP'],\n",
      "      dtype='object', length=147)\n",
      "Index(['YearStart', 'YearEnd', 'LocationAbbr', 'LocationDesc', 'Datasource',\n",
      "       'Class', 'Topic', 'Question', 'Data_Value_Unit', 'Data_Value_Type',\n",
      "       'Data_Value', 'Data_Value_Alt', 'Data_Value_Footnote_Symbol',\n",
      "       'Data_Value_Footnote', 'Low_Confidence_Limit', 'High_Confidence_Limit ',\n",
      "       'Sample_Size', 'Total', 'Age(years)', 'Education', 'Sex', 'Income',\n",
      "       'Race/Ethnicity', 'GeoLocation', 'ClassID', 'TopicID', 'QuestionID',\n",
      "       'DataValueTypeID', 'LocationID', 'StratificationCategory1',\n",
      "       'Stratification1', 'StratificationCategoryId1', 'StratificationID1'],\n",
      "      dtype='object')\n"
     ]
    }
   ],
   "source": [
    "print(food_access_data.columns)\n",
    "print(health_outcome_data.columns)"
   ]
  },
  {
   "cell_type": "code",
   "execution_count": 41,
   "id": "0c18fa06-6b1d-40d6-950d-b11e48565437",
   "metadata": {},
   "outputs": [],
   "source": [
    "merged_data = pd.merge(food_access_data, health_outcome_data, left_on=\"CensusTract\", right_on=\"LocationID\")"
   ]
  },
  {
   "cell_type": "code",
   "execution_count": 43,
   "id": "a70e2611-c832-4e10-883b-2d09a12fd7d9",
   "metadata": {},
   "outputs": [
    {
     "name": "stdout",
     "output_type": "stream",
     "text": [
      "0\n",
      "0\n"
     ]
    }
   ],
   "source": [
    "print(food_access_data['CensusTract'].isnull().sum())\n",
    "print(health_outcome_data['LocationID'].isnull().sum())"
   ]
  },
  {
   "cell_type": "code",
   "execution_count": 53,
   "id": "8b76c408-348e-4b1c-a4df-fa889a2f9cc5",
   "metadata": {},
   "outputs": [
    {
     "name": "stdout",
     "output_type": "stream",
     "text": [
      "Index(['CensusTract', 'State', 'County', 'Urban', 'Pop2010', 'OHU2010',\n",
      "       'GroupQuartersFlag', 'NUMGQTRS', 'PCTGQTRS', 'LILATracts_1And10',\n",
      "       ...\n",
      "       'GeoLocation', 'ClassID', 'TopicID', 'QuestionID', 'DataValueTypeID',\n",
      "       'LocationID', 'StratificationCategory1', 'Stratification1',\n",
      "       'StratificationCategoryId1', 'StratificationID1'],\n",
      "      dtype='object', length=180)\n"
     ]
    }
   ],
   "source": [
    "print(low_income_data.columns)"
   ]
  },
  {
   "cell_type": "code",
   "execution_count": 45,
   "id": "50cf71d5-5a4f-4bae-9912-372fcacc04b1",
   "metadata": {},
   "outputs": [],
   "source": [
    "# Filter for low-income areas by examining SNAP participation (as a proxy for low-income)\n",
    "low_income_data = merged_data[merged_data['TractSNAP'] > 0]"
   ]
  },
  {
   "cell_type": "code",
   "execution_count": 80,
   "id": "b9f0bad6-ce23-4e46-9d57-2139a64e76d5",
   "metadata": {},
   "outputs": [
    {
     "data": {
      "text/plain": [
       "<Axes: >"
      ]
     },
     "execution_count": 80,
     "metadata": {},
     "output_type": "execute_result"
    },
    {
     "data": {
      "image/png": "[encoded data removed]",
      "text/plain": [
       "<Figure size 640x480 with 1 Axes>"
      ]
     },
     "metadata": {},
     "output_type": "display_data"
    }
   ],
   "source": [
    "sns.scatterplot(data=low_income_data, x='Income', y='Race/Ethnicity', legend=False)"
   ]
  },
  {
   "cell_type": "code",
   "execution_count": 84,
   "id": "ac95d08e-bbab-4e95-a3b0-08af1a0b9911",
   "metadata": {},
   "outputs": [
    {
     "name": "stderr",
     "output_type": "stream",
     "text": [
      "/var/folders/c4/mwls6lk56m99nbxsclf1gczc0000gp/T/ipykernel_92472/3056176597.py:3: UserWarning: Ignoring `palette` because no `hue` variable has been assigned.\n",
      "  sns.scatterplot(data=low_income_data, x='Income', y='Race/Ethnicity', hue='State', palette='coolwarm')\n",
      "/var/folders/c4/mwls6lk56m99nbxsclf1gczc0000gp/T/ipykernel_92472/3056176597.py:7: UserWarning: No artists with labels found to put in legend.  Note that artists whose label start with an underscore are ignored when legend() is called with no argument.\n",
      "  plt.legend(title='Income vs Race/Ethnicity in Low-Income Communities')\n"
     ]
    },
    {
     "data": {
      "image/png": "[encoded data removed]",
      "text/plain": [
       "<Figure size 1000x600 with 1 Axes>"
      ]
     },
     "metadata": {},
     "output_type": "display_data"
    }
   ],
   "source": [
    "# Scatter plot of income vs obesity prevalence, colored by food access severity\n",
    "plt.figure(figsize=(10, 6))\n",
    "sns.scatterplot(data=low_income_data, x='Income', y='Race/Ethnicity', hue='State', palette='coolwarm')\n",
    "plt.title('Income vs Race/Ethnicity in Low-Income Communities')\n",
    "plt.xlabel('Income')\n",
    "plt.ylabel('Race/Ethnicity')\n",
    "plt.legend(title='Income vs Race/Ethnicity in Low-Income Communities')\n",
    "plt.show()\n"
   ]
  },
  {
   "cell_type": "code",
   "execution_count": null,
   "id": "f4d6d127-fb93-48c9-9897-e360ce32c435",
   "metadata": {},
   "outputs": [],
   "source": []
  }
 ],
 "metadata": {
  "kernelspec": {
   "display_name": "Python [conda env:base] *",
   "language": "python",
   "name": "conda-base-py"
  },
  "language_info": {
   "codemirror_mode": {
    "name": "ipython",
    "version": 3
   },
   "file_extension": ".py",
   "mimetype": "text/x-python",
   "name": "python",
   "nbconvert_exporter": "python",
   "pygments_lexer": "ipython3",
   "version": "3.12.7"
  }
 },
 "nbformat": 4,
 "nbformat_minor": 5
}
