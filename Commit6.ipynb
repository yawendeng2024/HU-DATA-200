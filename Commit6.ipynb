{
 "cells": [
  {
   "cell_type": "code",
   "execution_count": 1,
   "id": "2339ee9b-b003-4e3e-9660-a1af76fdadc5",
   "metadata": {},
   "outputs": [
    {
     "name": "stdout",
     "output_type": "stream",
     "text": [
      "['.Rhistory', 'Lab1.Rmd', '.config', 'Music', 'Commit6.ipynb', 'Commit4.ipynb', '.condarc', '.DS_Store', 'cleaned_health_outcome_data.csv', '.CFUserTextEncoding', 'Nutrition__Physical_Activity__and_Obesity_-_Behavioral_Risk_Factor_Surveillance_System_20250213.csv', '.xonshrc', 'fd2dbace-3737-c713-a4b7-42dcddc25e7f.png', 'anaconda_projects', '.zshrc', 'Commit5.ipynb', '.local', 'Pictures', 'cleaned_merged_data.csv', '.zprofile', 'Commit3.ipynb', 'Paper1.Rmd', '.zsh_history', '.ipython', 'Desktop', 'Library', '.matplotlib', 'Commit 2 Updated.ipynb', 'Public', '.idlerc', '.tcshrc', '.RData', '.anaconda', 'cleaned_food_access_data.csv', 'Movies', 'Assignment2.ipynb', '.Rapp.history', '.Trash', '.ipynb_checkpoints', 'FoodAccessResearchAtlasData2019.csv', '.jupyter', 'Documents', 'cleaned_health_outcome_data1.csv', '.bash_profile', 'Downloads', '.python_history', '.continuum', 'cleaned_food_access_data1.csv', '.zsh_sessions', 'Assignment1.ipynb', '.conda', 'Midterm Exam.ipynb']\n"
     ]
    }
   ],
   "source": [
    "import os\n",
    "print(os.listdir())"
   ]
  },
  {
   "cell_type": "code",
   "execution_count": 3,
   "id": "27f822d7-27ac-4f20-8138-ac18e4fc52f7",
   "metadata": {},
   "outputs": [],
   "source": [
    "import sqlite3\n",
    "import pandas as pd\n",
    "import matplotlib.pyplot as plt"
   ]
  },
  {
   "cell_type": "code",
   "execution_count": 11,
   "id": "5c7dd81d-6cdc-4ae2-9881-f4ebec29d995",
   "metadata": {},
   "outputs": [],
   "source": [
    "# 1. Create a connection to a new SQLite database (or open if it exists)\n",
    "conn = sqlite3.connect('os.listdir()')\n",
    "cursor = conn.cursor()"
   ]
  },
  {
   "cell_type": "code",
   "execution_count": 37,
   "id": "27dd28c3-c5b3-4690-955d-1ebc10716677",
   "metadata": {},
   "outputs": [],
   "source": [
    "# 2. Create a new table named 'health_data' if it doesn't already exist\n",
    "cursor.execute('''\n",
    "    CREATE TABLE IF NOT EXISTS health_data (\n",
    "        id INTEGER PRIMARY KEY AUTOINCREMENT,\n",
    "        state TEXT,\n",
    "        County TEXT,\n",
    "        NUMGQTRS REAL,\n",
    "        TractSeniors REAL,\n",
    "        Tract0Multir REAL\n",
    "    )\n",
    "''')\n",
    "conn.commit()"
   ]
  },
  {
   "cell_type": "code",
   "execution_count": 13,
   "id": "b9b59d62-4dbd-4ca1-9200-99a77ad389f4",
   "metadata": {},
   "outputs": [
    {
     "name": "stdout",
     "output_type": "stream",
     "text": [
      "Data Preview:\n",
      "   CensusTract    State          County  Urban  Pop2010  OHU2010  \\\n",
      "0   1001020100  Alabama  Autauga County      1     1912      693   \n",
      "1   1001020200  Alabama  Autauga County      1     2170      743   \n",
      "2   1001020300  Alabama  Autauga County      1     3373     1256   \n",
      "3   1001020400  Alabama  Autauga County      1     4386     1722   \n",
      "4   1001020500  Alabama  Autauga County      1    10766     4082   \n",
      "\n",
      "   GroupQuartersFlag  NUMGQTRS  PCTGQTRS  LILATracts_1And10  ...  \\\n",
      "0                  0       0.0      0.00                  0  ...   \n",
      "1                  0     181.0      8.34                  1  ...   \n",
      "2                  0       0.0      0.00                  0  ...   \n",
      "3                  0       0.0      0.00                  0  ...   \n",
      "4                  0     181.0      1.68                  0  ...   \n",
      "\n",
      "   TractSeniors  TractWhite  TractBlack  TractAsian  TractNHOPI  TractAIAN  \\\n",
      "0         221.0      1622.0       217.0        14.0         0.0       14.0   \n",
      "1         214.0       888.0      1217.0         5.0         0.0        5.0   \n",
      "2         439.0      2576.0       647.0        17.0         5.0       11.0   \n",
      "3         904.0      4086.0       193.0        18.0         4.0       11.0   \n",
      "4        1126.0      8666.0      1437.0       296.0         9.0       48.0   \n",
      "\n",
      "   TractOMultir  TractHispanic  TractHUNV  TractSNAP  \n",
      "0          45.0           44.0        6.0      102.0  \n",
      "1          55.0           75.0       89.0      156.0  \n",
      "2         117.0           87.0       99.0      172.0  \n",
      "3          74.0           85.0       21.0       98.0  \n",
      "4         310.0          355.0      230.0      339.0  \n",
      "\n",
      "[5 rows x 147 columns]\n"
     ]
    }
   ],
   "source": [
    "data = pd.read_csv(\"FoodAccessResearchAtlasData2019.csv\")\n",
    "print(\"Data Preview:\")\n",
    "print(data.head())"
   ]
  },
  {
   "cell_type": "code",
   "execution_count": 31,
   "id": "e0355077-eb88-4cf9-aed1-7f54f988240b",
   "metadata": {},
   "outputs": [
    {
     "ename": "OperationalError",
     "evalue": "near \")\": syntax error",
     "output_type": "error",
     "traceback": [
      "\u001b[0;31m---------------------------------------------------------------------------\u001b[0m",
      "\u001b[0;31mOperationalError\u001b[0m                          Traceback (most recent call last)",
      "Cell \u001b[0;32mIn[31], line 2\u001b[0m\n\u001b[1;32m      1\u001b[0m \u001b[38;5;28;01mfor\u001b[39;00m index, row \u001b[38;5;129;01min\u001b[39;00m data\u001b[38;5;241m.\u001b[39miterrows():\n\u001b[0;32m----> 2\u001b[0m     cursor\u001b[38;5;241m.\u001b[39mexecute(\u001b[38;5;124m'''\u001b[39m\n\u001b[1;32m      3\u001b[0m \u001b[38;5;124m        INSERT INTO os.listdir() (state, County, Urban, NUMGQTRS, TractSeniors)\u001b[39m\n\u001b[1;32m      4\u001b[0m \u001b[38;5;124m        VALUES (?, ?, ?, ?, ?)\u001b[39m\n\u001b[1;32m      5\u001b[0m \u001b[38;5;124m    \u001b[39m\u001b[38;5;124m'''\u001b[39m, (row[\u001b[38;5;124m'\u001b[39m\u001b[38;5;124mState\u001b[39m\u001b[38;5;124m'\u001b[39m], row[\u001b[38;5;124m'\u001b[39m\u001b[38;5;124mCounty\u001b[39m\u001b[38;5;124m'\u001b[39m], row[\u001b[38;5;124m'\u001b[39m\u001b[38;5;124mUrban\u001b[39m\u001b[38;5;124m'\u001b[39m], row[\u001b[38;5;124m'\u001b[39m\u001b[38;5;124mNUMGQTRS\u001b[39m\u001b[38;5;124m'\u001b[39m], row[\u001b[38;5;124m'\u001b[39m\u001b[38;5;124mTractSeniors\u001b[39m\u001b[38;5;124m'\u001b[39m]))\n\u001b[1;32m      6\u001b[0m conn\u001b[38;5;241m.\u001b[39mcommit()\n",
      "\u001b[0;31mOperationalError\u001b[0m: near \")\": syntax error"
     ]
    }
   ],
   "source": [
    "for index, row in data.iterrows():\n",
    "    cursor.execute('''\n",
    "        INSERT INTO os.listdir() (state, County, Urban, NUMGQTRS, TractSeniors)\n",
    "        VALUES (?, ?, ?, ?, ?)\n",
    "    ''', (row['State'], row['County'], row['Urban'], row['NUMGQTRS'], row['TractSeniors']))\n",
    "conn.commit()"
   ]
  },
  {
   "cell_type": "code",
   "execution_count": 33,
   "id": "4c411a68-2c20-4072-a365-a44fdc3af81b",
   "metadata": {},
   "outputs": [
    {
     "ename": "SyntaxError",
     "evalue": "unterminated triple-quoted string literal (detected at line 6) (3125779529.py, line 3)",
     "output_type": "error",
     "traceback": [
      "\u001b[0;36m  Cell \u001b[0;32mIn[33], line 3\u001b[0;36m\u001b[0m\n\u001b[0;31m    '''\u001b[0m\n\u001b[0m    ^\u001b[0m\n\u001b[0;31mSyntaxError\u001b[0m\u001b[0;31m:\u001b[0m unterminated triple-quoted string literal (detected at line 6)\n"
     ]
    }
   ],
   "source": [
    "    SELECT state, NUMGQTRS, TractSeniors\n",
    "    FROM os.listdir()\n",
    "'''\n",
    "df_query = pd.read_sql_query(query, conn)\n",
    "print(\"\\nQuery Result Preview:\")\n",
    "print(df_query.head())"
   ]
  },
  {
   "cell_type": "code",
   "execution_count": 35,
   "id": "a2008cc5-612b-4ed6-a4a9-22ae8be84c2f",
   "metadata": {},
   "outputs": [
    {
     "ename": "NameError",
     "evalue": "name 'df_query' is not defined",
     "output_type": "error",
     "traceback": [
      "\u001b[0;31m---------------------------------------------------------------------------\u001b[0m",
      "\u001b[0;31mNameError\u001b[0m                                 Traceback (most recent call last)",
      "Cell \u001b[0;32mIn[35], line 2\u001b[0m\n\u001b[1;32m      1\u001b[0m plt\u001b[38;5;241m.\u001b[39mfigure(figsize\u001b[38;5;241m=\u001b[39m(\u001b[38;5;241m10\u001b[39m, \u001b[38;5;241m6\u001b[39m))\n\u001b[0;32m----> 2\u001b[0m plt\u001b[38;5;241m.\u001b[39mscatter(df_query[\u001b[38;5;124m'\u001b[39m\u001b[38;5;124mState\u001b[39m\u001b[38;5;124m'\u001b[39m], df_query[\u001b[38;5;124m'\u001b[39m\u001b[38;5;124mNUMGQTRS\u001b[39m\u001b[38;5;124m'\u001b[39m], s\u001b[38;5;241m=\u001b[39m\u001b[38;5;241m100\u001b[39m, alpha\u001b[38;5;241m=\u001b[39m\u001b[38;5;241m0.7\u001b[39m)\n\u001b[1;32m      3\u001b[0m plt\u001b[38;5;241m.\u001b[39mtitle(\u001b[38;5;124m\"\u001b[39m\u001b[38;5;124mRelationship Between State and Age\u001b[39m\u001b[38;5;124m\"\u001b[39m, fontsize\u001b[38;5;241m=\u001b[39m\u001b[38;5;241m16\u001b[39m)\n\u001b[1;32m      4\u001b[0m plt\u001b[38;5;241m.\u001b[39mxlabel(\u001b[38;5;124m\"\u001b[39m\u001b[38;5;124mState\u001b[39m\u001b[38;5;124m\"\u001b[39m, fontsize\u001b[38;5;241m=\u001b[39m\u001b[38;5;241m12\u001b[39m)\n",
      "\u001b[0;31mNameError\u001b[0m: name 'df_query' is not defined"
     ]
    },
    {
     "data": {
      "text/plain": [
       "<Figure size 1000x600 with 0 Axes>"
      ]
     },
     "metadata": {},
     "output_type": "display_data"
    }
   ],
   "source": [
    "plt.figure(figsize=(10, 6))\n",
    "plt.scatter(df_query['State'], df_query['NUMGQTRS'], s=100, alpha=0.7)\n",
    "plt.title(\"Relationship Between State and Age\", fontsize=16)\n",
    "plt.xlabel(\"State\", fontsize=12)\n",
    "plt.ylabel(\"TractSeniors\", fontsize=12)\n",
    "plt.grid(True)\n",
    "plt.tight_layout()\n",
    "plt.show()"
   ]
  },
  {
   "cell_type": "code",
   "execution_count": null,
   "id": "cf501707-accb-44ec-8050-64e4a6884f3b",
   "metadata": {},
   "outputs": [],
   "source": []
  }
 ],
 "metadata": {
  "kernelspec": {
   "display_name": "Python [conda env:base] *",
   "language": "python",
   "name": "conda-base-py"
  },
  "language_info": {
   "codemirror_mode": {
    "name": "ipython",
    "version": 3
   },
   "file_extension": ".py",
   "mimetype": "text/x-python",
   "name": "python",
   "nbconvert_exporter": "python",
   "pygments_lexer": "ipython3",
   "version": "3.12.7"
  }
 },
 "nbformat": 4,
 "nbformat_minor": 5
}
