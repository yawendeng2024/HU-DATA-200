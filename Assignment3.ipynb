{
 "cells": [
  {
   "cell_type": "code",
   "execution_count": 1,
   "id": "135dd902-4f59-400f-be6c-c4d9c3e046c2",
   "metadata": {},
   "outputs": [
    {
     "name": "stdout",
     "output_type": "stream",
     "text": [
      "Collecting ipython-sql\n",
      "  Downloading ipython_sql-0.5.0-py3-none-any.whl.metadata (17 kB)\n",
      "Collecting prettytable (from ipython-sql)\n",
      "  Downloading prettytable-3.16.0-py3-none-any.whl.metadata (33 kB)\n",
      "Requirement already satisfied: ipython in /opt/anaconda3/lib/python3.12/site-packages (from ipython-sql) (8.27.0)\n",
      "Requirement already satisfied: sqlalchemy>=2.0 in /opt/anaconda3/lib/python3.12/site-packages (from ipython-sql) (2.0.34)\n",
      "Collecting sqlparse (from ipython-sql)\n",
      "  Downloading sqlparse-0.5.3-py3-none-any.whl.metadata (3.9 kB)\n",
      "Requirement already satisfied: six in /opt/anaconda3/lib/python3.12/site-packages (from ipython-sql) (1.16.0)\n",
      "Requirement already satisfied: ipython-genutils in /opt/anaconda3/lib/python3.12/site-packages (from ipython-sql) (0.2.0)\n",
      "Requirement already satisfied: typing-extensions>=4.6.0 in /opt/anaconda3/lib/python3.12/site-packages (from sqlalchemy>=2.0->ipython-sql) (4.11.0)\n",
      "Requirement already satisfied: decorator in /opt/anaconda3/lib/python3.12/site-packages (from ipython->ipython-sql) (5.1.1)\n",
      "Requirement already satisfied: jedi>=0.16 in /opt/anaconda3/lib/python3.12/site-packages (from ipython->ipython-sql) (0.19.1)\n",
      "Requirement already satisfied: matplotlib-inline in /opt/anaconda3/lib/python3.12/site-packages (from ipython->ipython-sql) (0.1.6)\n",
      "Requirement already satisfied: prompt-toolkit<3.1.0,>=3.0.41 in /opt/anaconda3/lib/python3.12/site-packages (from ipython->ipython-sql) (3.0.43)\n",
      "Requirement already satisfied: pygments>=2.4.0 in /opt/anaconda3/lib/python3.12/site-packages (from ipython->ipython-sql) (2.15.1)\n",
      "Requirement already satisfied: stack-data in /opt/anaconda3/lib/python3.12/site-packages (from ipython->ipython-sql) (0.2.0)\n",
      "Requirement already satisfied: traitlets>=5.13.0 in /opt/anaconda3/lib/python3.12/site-packages (from ipython->ipython-sql) (5.14.3)\n",
      "Requirement already satisfied: pexpect>4.3 in /opt/anaconda3/lib/python3.12/site-packages (from ipython->ipython-sql) (4.8.0)\n",
      "Requirement already satisfied: wcwidth in /opt/anaconda3/lib/python3.12/site-packages (from prettytable->ipython-sql) (0.2.5)\n",
      "Requirement already satisfied: parso<0.9.0,>=0.8.3 in /opt/anaconda3/lib/python3.12/site-packages (from jedi>=0.16->ipython->ipython-sql) (0.8.3)\n",
      "Requirement already satisfied: ptyprocess>=0.5 in /opt/anaconda3/lib/python3.12/site-packages (from pexpect>4.3->ipython->ipython-sql) (0.7.0)\n",
      "Requirement already satisfied: executing in /opt/anaconda3/lib/python3.12/site-packages (from stack-data->ipython->ipython-sql) (0.8.3)\n",
      "Requirement already satisfied: asttokens in /opt/anaconda3/lib/python3.12/site-packages (from stack-data->ipython->ipython-sql) (2.0.5)\n",
      "Requirement already satisfied: pure-eval in /opt/anaconda3/lib/python3.12/site-packages (from stack-data->ipython->ipython-sql) (0.2.2)\n",
      "Downloading ipython_sql-0.5.0-py3-none-any.whl (20 kB)\n",
      "Downloading prettytable-3.16.0-py3-none-any.whl (33 kB)\n",
      "Downloading sqlparse-0.5.3-py3-none-any.whl (44 kB)\n",
      "Installing collected packages: sqlparse, prettytable, ipython-sql\n",
      "Successfully installed ipython-sql-0.5.0 prettytable-3.16.0 sqlparse-0.5.3\n",
      "Note: you may need to restart the kernel to use updated packages.\n"
     ]
    }
   ],
   "source": [
    "pip install ipython-sql"
   ]
  },
  {
   "cell_type": "code",
   "execution_count": 3,
   "id": "0b1b7286-4ee1-460b-ac90-5e9349ca6a69",
   "metadata": {},
   "outputs": [
    {
     "name": "stdout",
     "output_type": "stream",
     "text": [
      " * sqlite:///health_data.db\n",
      "Done.\n"
     ]
    },
    {
     "data": {
      "text/plain": [
       "[]"
      ]
     },
     "execution_count": 3,
     "metadata": {},
     "output_type": "execute_result"
    }
   ],
   "source": [
    "# Load the SQL extension\n",
    "%load_ext sql\n",
    "\n",
    "# Connect to an SQLite database\n",
    "%sql sqlite:///health_data.db\n",
    "\n",
    "# Now you can run SQL queries directly in your notebook\n",
    "%sql CREATE TABLE States (state_id INTEGER PRIMARY KEY, state_name TEXT, population INTEGER);"
   ]
  },
  {
   "cell_type": "code",
   "execution_count": 19,
   "id": "231eb283-e93d-4e34-a550-b28a31f21b59",
   "metadata": {},
   "outputs": [],
   "source": [
    "import sqlite3\n",
    "\n",
    "# Connect to the SQLite database (this will create the database if it doesn't exist)\n",
    "conn = sqlite3.connect('health_data.db')\n",
    "cursor = conn.cursor()"
   ]
  },
  {
   "cell_type": "code",
   "execution_count": 31,
   "id": "3e6d6455-b827-467c-ab8c-cc639d24973d",
   "metadata": {},
   "outputs": [
    {
     "data": {
      "text/plain": [
       "<sqlite3.Cursor at 0x1290ffc40>"
      ]
     },
     "execution_count": 31,
     "metadata": {},
     "output_type": "execute_result"
    }
   ],
   "source": [
    "# SQL to create the \"States\" table\n",
    "cursor.execute('''\n",
    "CREATE TABLE IF NOT EXISTS States (\n",
    "    state_id INTEGER PRIMARY KEY,\n",
    "    state_name TEXT,\n",
    "    population INTEGER\n",
    ")\n",
    "''')"
   ]
  },
  {
   "cell_type": "code",
   "execution_count": 23,
   "id": "d8b08573-d7a9-4e79-8383-a85159b7bfc0",
   "metadata": {},
   "outputs": [
    {
     "data": {
      "text/plain": [
       "<sqlite3.Cursor at 0x1290feac0>"
      ]
     },
     "execution_count": 23,
     "metadata": {},
     "output_type": "execute_result"
    }
   ],
   "source": [
    "# SQL to create the \"ChronicDiseases\" table\n",
    "cursor.execute('''\n",
    "CREATE TABLE IF NOT EXISTS ChronicDiseases (\n",
    "    disease_id INTEGER PRIMARY KEY,\n",
    "    state_id INTEGER,\n",
    "    disease_name TEXT,\n",
    "    disease_prevalence_rate FLOAT,\n",
    "    FOREIGN KEY (state_id) REFERENCES States(state_id)\n",
    ")\n",
    "''')"
   ]
  },
  {
   "cell_type": "code",
   "execution_count": 43,
   "id": "7b3c6d13-b3a2-4ec8-91dc-dce6f7513161",
   "metadata": {},
   "outputs": [
    {
     "name": "stdout",
     "output_type": "stream",
     "text": [
      "('California', 'Hypertension', 29.5)\n",
      "('Texas', 'Diabetes', 12.0)\n",
      "('Florida', 'Cancer', 4.3)\n",
      "('California', 'Hypertension', 29.5)\n",
      "('Texas', 'Diabetes', 12.0)\n",
      "('Florida', 'Cancer', 4.3)\n"
     ]
    }
   ],
   "source": [
    "import sqlite3\n",
    "\n",
    "# Connect to the SQLite database\n",
    "conn = sqlite3.connect('health_data.db')\n",
    "cursor = conn.cursor()\n",
    "\n",
    "# Execute the SQL query\n",
    "cursor.execute('''\n",
    "SELECT States.state_name, ChronicDiseases.disease_name, ChronicDiseases.disease_prevalence_rate\n",
    "FROM States\n",
    "JOIN ChronicDiseases ON States.state_id = ChronicDiseases.state_id;\n",
    "''')\n",
    "\n",
    "# Fetch all the results\n",
    "results = cursor.fetchall()\n",
    "\n",
    "# Print the results\n",
    "for row in results:\n",
    "    print(row)"
   ]
  },
  {
   "cell_type": "code",
   "execution_count": 47,
   "id": "c9104dd9-cc94-4a2c-9333-b320f144f268",
   "metadata": {},
   "outputs": [
    {
     "name": "stdout",
     "output_type": "stream",
     "text": [
      "('California', 29.5)\n",
      "('Florida', 4.3)\n",
      "('Texas', 12.0)\n"
     ]
    }
   ],
   "source": [
    "conn = sqlite3.connect('health_data.db')\n",
    "cursor = conn.cursor()\n",
    "\n",
    "# SQL query to calculate the average disease prevalence rate by state\n",
    "cursor.execute('''\n",
    "SELECT state_name, AVG(disease_prevalence_rate) AS avg_prevalence\n",
    "FROM States\n",
    "JOIN ChronicDiseases ON States.state_id = ChronicDiseases.state_id\n",
    "GROUP BY state_name;\n",
    "''')\n",
    "\n",
    "# Fetch all the results\n",
    "results = cursor.fetchall()\n",
    "\n",
    "# Print the results\n",
    "for row in results:\n",
    "    print(row)"
   ]
  },
  {
   "cell_type": "markdown",
   "id": "317779be-f19b-4645-9fe4-8c71dedc5926",
   "metadata": {},
   "source": [
    "Query 1: Calculate the average disease prevalence rate by state."
   ]
  },
  {
   "cell_type": "code",
   "execution_count": 47,
   "id": "504a9c74-94fc-423c-a06f-87bf3f52fe6f",
   "metadata": {},
   "outputs": [
    {
     "name": "stdout",
     "output_type": "stream",
     "text": [
      "('California', 29.5)\n",
      "('Florida', 4.3)\n",
      "('Texas', 12.0)\n"
     ]
    }
   ],
   "source": [
    "conn = sqlite3.connect('health_data.db')\n",
    "cursor = conn.cursor()\n",
    "\n",
    "# SQL query to calculate the average disease prevalence rate by state\n",
    "cursor.execute('''\n",
    "SELECT state_name, AVG(disease_prevalence_rate) AS avg_prevalence\n",
    "FROM States\n",
    "JOIN ChronicDiseases ON States.state_id = ChronicDiseases.state_id\n",
    "GROUP BY state_name;\n",
    "''')\n",
    "\n",
    "# Fetch all the results\n",
    "results = cursor.fetchall()\n",
    "\n",
    "# Print the results\n",
    "for row in results:\n",
    "    print(row)"
   ]
  },
  {
   "cell_type": "markdown",
   "id": "5d719ae8-6dbd-4cc1-a9f4-8ea195f1bd34",
   "metadata": {},
   "source": [
    "Query 2: Retrieve the states where the disease prevalence rate is above 10%."
   ]
  },
  {
   "cell_type": "code",
   "execution_count": 51,
   "id": "8a9c5bb0-c2e3-4c95-ab10-90437919c915",
   "metadata": {},
   "outputs": [
    {
     "name": "stdout",
     "output_type": "stream",
     "text": [
      "('California', 'Hypertension', 29.5)\n",
      "('Texas', 'Diabetes', 12.0)\n",
      "('California', 'Hypertension', 29.5)\n",
      "('Texas', 'Diabetes', 12.0)\n"
     ]
    }
   ],
   "source": [
    "# SQL query to select states and diseases with a prevalence rate greater than 10\n",
    "cursor.execute('''\n",
    "SELECT state_name, disease_name, disease_prevalence_rate\n",
    "FROM States\n",
    "JOIN ChronicDiseases ON States.state_id = ChronicDiseases.state_id\n",
    "WHERE disease_prevalence_rate > 10;\n",
    "''')\n",
    "\n",
    "# Fetch all the results\n",
    "results = cursor.fetchall()\n",
    "\n",
    "# Print the results\n",
    "for row in results:\n",
    "    print(row)"
   ]
  },
  {
   "cell_type": "code",
   "execution_count": 63,
   "id": "1058fbbc-67ae-47cd-a9a6-97f93ee6c93c",
   "metadata": {},
   "outputs": [
    {
     "ename": "OperationalError",
     "evalue": "database is locked",
     "output_type": "error",
     "traceback": [
      "\u001b[0;31m---------------------------------------------------------------------------\u001b[0m",
      "\u001b[0;31mOperationalError\u001b[0m                          Traceback (most recent call last)",
      "Cell \u001b[0;32mIn[63], line 8\u001b[0m\n\u001b[1;32m      5\u001b[0m cursor \u001b[38;5;241m=\u001b[39m conn\u001b[38;5;241m.\u001b[39mcursor()\n\u001b[1;32m      7\u001b[0m \u001b[38;5;66;03m# Execute the DELETE query\u001b[39;00m\n\u001b[0;32m----> 8\u001b[0m cursor\u001b[38;5;241m.\u001b[39mexecute(\u001b[38;5;124m\"\u001b[39m\u001b[38;5;124mDELETE FROM ChronicDiseases WHERE disease_prevalence_rate IS NULL\u001b[39m\u001b[38;5;124m\"\u001b[39m)\n\u001b[1;32m     10\u001b[0m \u001b[38;5;66;03m# Commit the changes to the database\u001b[39;00m\n\u001b[1;32m     11\u001b[0m conn\u001b[38;5;241m.\u001b[39mcommit()\n",
      "\u001b[0;31mOperationalError\u001b[0m: database is locked"
     ]
    }
   ],
   "source": [
    "import sqlite3\n",
    "\n",
    "# Connect to the SQLite database\n",
    "conn = sqlite3.connect('health_data.db')\n",
    "cursor = conn.cursor()\n",
    "\n",
    "# Execute the DELETE query\n",
    "cursor.execute(\"DELETE FROM ChronicDiseases WHERE disease_prevalence_rate IS NULL\")\n",
    "\n",
    "# Commit the changes to the database\n",
    "conn.commit()\n",
    "\n",
    "# Close the connection\n",
    "conn.close()"
   ]
  },
  {
   "cell_type": "code",
   "execution_count": 65,
   "id": "d5058e8c-8f47-4257-b9ca-ab53237d0b84",
   "metadata": {},
   "outputs": [
    {
     "ename": "OperationalError",
     "evalue": "database is locked",
     "output_type": "error",
     "traceback": [
      "\u001b[0;31m---------------------------------------------------------------------------\u001b[0m",
      "\u001b[0;31mOperationalError\u001b[0m                          Traceback (most recent call last)",
      "Cell \u001b[0;32mIn[65], line 10\u001b[0m\n\u001b[1;32m      7\u001b[0m cursor \u001b[38;5;241m=\u001b[39m conn\u001b[38;5;241m.\u001b[39mcursor()\n\u001b[1;32m      9\u001b[0m \u001b[38;5;66;03m# Execute the DELETE query\u001b[39;00m\n\u001b[0;32m---> 10\u001b[0m cursor\u001b[38;5;241m.\u001b[39mexecute(\u001b[38;5;124m\"\u001b[39m\u001b[38;5;124mDELETE FROM ChronicDiseases WHERE disease_prevalence_rate IS NULL\u001b[39m\u001b[38;5;124m\"\u001b[39m)\n\u001b[1;32m     12\u001b[0m \u001b[38;5;66;03m# Commit the changes to the database\u001b[39;00m\n\u001b[1;32m     13\u001b[0m conn\u001b[38;5;241m.\u001b[39mcommit()\n",
      "\u001b[0;31mOperationalError\u001b[0m: database is locked"
     ]
    }
   ],
   "source": [
    "import sqlite3\n",
    "\n",
    "# Connect to the SQLite database and set a busy timeout\n",
    "conn = sqlite3.connect('health_data.db')\n",
    "conn.execute(\"PRAGMA busy_timeout = 5000\")  # 5000 ms = 5 seconds\n",
    "\n",
    "cursor = conn.cursor()\n",
    "\n",
    "# Execute the DELETE query\n",
    "cursor.execute(\"DELETE FROM ChronicDiseases WHERE disease_prevalence_rate IS NULL\")\n",
    "\n",
    "# Commit the changes to the database\n",
    "conn.commit()\n",
    "\n",
    "# Close the connection\n",
    "conn.close()"
   ]
  },
  {
   "cell_type": "code",
   "execution_count": 67,
   "id": "06bdef7a-7035-4180-b84f-1a51524635af",
   "metadata": {},
   "outputs": [
    {
     "ename": "OperationalError",
     "evalue": "database is locked",
     "output_type": "error",
     "traceback": [
      "\u001b[0;31m---------------------------------------------------------------------------\u001b[0m",
      "\u001b[0;31mOperationalError\u001b[0m                          Traceback (most recent call last)",
      "Cell \u001b[0;32mIn[67], line 9\u001b[0m\n\u001b[1;32m      6\u001b[0m cursor \u001b[38;5;241m=\u001b[39m conn\u001b[38;5;241m.\u001b[39mcursor()\n\u001b[1;32m      8\u001b[0m \u001b[38;5;66;03m# Execute the DELETE query\u001b[39;00m\n\u001b[0;32m----> 9\u001b[0m cursor\u001b[38;5;241m.\u001b[39mexecute(\u001b[38;5;124m\"\u001b[39m\u001b[38;5;124mDELETE FROM ChronicDiseases WHERE disease_prevalence_rate IS NULL\u001b[39m\u001b[38;5;124m\"\u001b[39m)\n\u001b[1;32m     11\u001b[0m \u001b[38;5;66;03m# Commit the changes automatically when the 'with' block ends\u001b[39;00m\n\u001b[1;32m     12\u001b[0m conn\u001b[38;5;241m.\u001b[39mcommit()\n",
      "\u001b[0;31mOperationalError\u001b[0m: database is locked"
     ]
    }
   ],
   "source": [
    "import sqlite3\n",
    "\n",
    "# Using 'with' ensures that the connection is properly closed after the block is executed\n",
    "with sqlite3.connect('health_data.db') as conn:\n",
    "    conn.execute(\"PRAGMA busy_timeout = 5000\")  # Set a timeout for 5 seconds\n",
    "    cursor = conn.cursor()\n",
    "\n",
    "    # Execute the DELETE query\n",
    "    cursor.execute(\"DELETE FROM ChronicDiseases WHERE disease_prevalence_rate IS NULL\")\n",
    "\n",
    "    # Commit the changes automatically when the 'with' block ends\n",
    "    conn.commit()"
   ]
  },
  {
   "cell_type": "code",
   "execution_count": null,
   "id": "7f9cca05-73f0-49b2-b1e0-2f44fd553202",
   "metadata": {},
   "outputs": [],
   "source": []
  }
 ],
 "metadata": {
  "kernelspec": {
   "display_name": "Python [conda env:base] *",
   "language": "python",
   "name": "conda-base-py"
  },
  "language_info": {
   "codemirror_mode": {
    "name": "ipython",
    "version": 3
   },
   "file_extension": ".py",
   "mimetype": "text/x-python",
   "name": "python",
   "nbconvert_exporter": "python",
   "pygments_lexer": "ipython3",
   "version": "3.12.7"
  }
 },
 "nbformat": 4,
 "nbformat_minor": 5
}
